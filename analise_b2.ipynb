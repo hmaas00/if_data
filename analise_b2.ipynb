{
 "cells": [
  {
   "cell_type": "code",
   "execution_count": 1,
   "metadata": {},
   "outputs": [],
   "source": [
    "import numpy as np\n",
    "import pandas as pd\n",
    "import matplotlib.pyplot as plt\n",
    "import seaborn as sns\n",
    "from IPython.display import Image\n",
    "from matplotlib.pyplot import figure\n",
    "sns.set()"
   ]
  },
  {
   "cell_type": "code",
   "execution_count": 2,
   "metadata": {},
   "outputs": [],
   "source": [
    "df= pd.read_csv(\"BANCOS_B2.csv\", encoding=\"latin1\", sep=\";\")"
   ]
  },
  {
   "cell_type": "code",
   "execution_count": 3,
   "metadata": {},
   "outputs": [],
   "source": [
    "#transformar data em index de data\n",
    "df['data'] = pd.to_datetime(df['data'], format=\"%Y%m\")\n",
    "#df.set_index(\"data\",inplace=True, drop=True)"
   ]
  },
  {
   "cell_type": "code",
   "execution_count": 4,
   "metadata": {},
   "outputs": [],
   "source": [
    "#Arrumar valores separados por virgula\n",
    "df['valor']= df['valor'].str.replace(\",\", \".\")\n",
    "df['valor'] = pd.to_numeric(df['valor'])"
   ]
  },
  {
   "cell_type": "code",
   "execution_count": 5,
   "metadata": {},
   "outputs": [
    {
     "name": "stdout",
     "output_type": "stream",
     "text": [
      "<class 'pandas.core.frame.DataFrame'>\n",
      "RangeIndex: 70770 entries, 0 to 70769\n",
      "Data columns (total 5 columns):\n",
      "data        70770 non-null datetime64[ns]\n",
      "id_banco    70770 non-null int64\n",
      "nome        70770 non-null object\n",
      "variavel    70770 non-null object\n",
      "valor       70770 non-null float64\n",
      "dtypes: datetime64[ns](1), float64(1), int64(1), object(2)\n",
      "memory usage: 2.7+ MB\n"
     ]
    }
   ],
   "source": [
    "df.info()"
   ]
  },
  {
   "cell_type": "code",
   "execution_count": 6,
   "metadata": {},
   "outputs": [
    {
     "data": {
      "text/html": [
       "<div>\n",
       "<style scoped>\n",
       "    .dataframe tbody tr th:only-of-type {\n",
       "        vertical-align: middle;\n",
       "    }\n",
       "\n",
       "    .dataframe tbody tr th {\n",
       "        vertical-align: top;\n",
       "    }\n",
       "\n",
       "    .dataframe thead th {\n",
       "        text-align: right;\n",
       "    }\n",
       "</style>\n",
       "<table border=\"1\" class=\"dataframe\">\n",
       "  <thead>\n",
       "    <tr style=\"text-align: right;\">\n",
       "      <th></th>\n",
       "      <th>data</th>\n",
       "      <th>id_banco</th>\n",
       "      <th>nome</th>\n",
       "      <th>variavel</th>\n",
       "      <th>valor</th>\n",
       "    </tr>\n",
       "  </thead>\n",
       "  <tbody>\n",
       "    <tr>\n",
       "      <th>0</th>\n",
       "      <td>2000-01-01</td>\n",
       "      <td>51262</td>\n",
       "      <td>DAIMLERCHRYSLER</td>\n",
       "      <td>IF.DATA_Capt</td>\n",
       "      <td>7.026241e+08</td>\n",
       "    </tr>\n",
       "    <tr>\n",
       "      <th>1</th>\n",
       "      <td>2000-01-01</td>\n",
       "      <td>51262</td>\n",
       "      <td>DAIMLERCHRYSLER</td>\n",
       "      <td>IF.DATA_DCap</td>\n",
       "      <td>-3.580450e+06</td>\n",
       "    </tr>\n",
       "    <tr>\n",
       "      <th>2</th>\n",
       "      <td>2000-01-01</td>\n",
       "      <td>51262</td>\n",
       "      <td>DAIMLERCHRYSLER</td>\n",
       "      <td>IF.DATA_JCP</td>\n",
       "      <td>0.000000e+00</td>\n",
       "    </tr>\n",
       "    <tr>\n",
       "      <th>3</th>\n",
       "      <td>2000-01-01</td>\n",
       "      <td>51262</td>\n",
       "      <td>DAIMLERCHRYSLER</td>\n",
       "      <td>IF.DATA_OpC</td>\n",
       "      <td>2.043372e+08</td>\n",
       "    </tr>\n",
       "    <tr>\n",
       "      <th>4</th>\n",
       "      <td>2000-01-01</td>\n",
       "      <td>51262</td>\n",
       "      <td>DAIMLERCHRYSLER</td>\n",
       "      <td>IF.DATA_PartLuc</td>\n",
       "      <td>0.000000e+00</td>\n",
       "    </tr>\n",
       "    <tr>\n",
       "      <th>5</th>\n",
       "      <td>2000-01-01</td>\n",
       "      <td>51262</td>\n",
       "      <td>DAIMLERCHRYSLER</td>\n",
       "      <td>IF.DATA_RdOC</td>\n",
       "      <td>3.270653e+06</td>\n",
       "    </tr>\n",
       "    <tr>\n",
       "      <th>6</th>\n",
       "      <td>2000-01-01</td>\n",
       "      <td>51396</td>\n",
       "      <td>HONDA</td>\n",
       "      <td>IF.DATA_Capt</td>\n",
       "      <td>0.000000e+00</td>\n",
       "    </tr>\n",
       "    <tr>\n",
       "      <th>7</th>\n",
       "      <td>2000-01-01</td>\n",
       "      <td>51396</td>\n",
       "      <td>HONDA</td>\n",
       "      <td>IF.DATA_DCap</td>\n",
       "      <td>0.000000e+00</td>\n",
       "    </tr>\n",
       "    <tr>\n",
       "      <th>8</th>\n",
       "      <td>2000-01-01</td>\n",
       "      <td>51396</td>\n",
       "      <td>HONDA</td>\n",
       "      <td>IF.DATA_JCP</td>\n",
       "      <td>0.000000e+00</td>\n",
       "    </tr>\n",
       "    <tr>\n",
       "      <th>9</th>\n",
       "      <td>2000-01-01</td>\n",
       "      <td>51396</td>\n",
       "      <td>HONDA</td>\n",
       "      <td>IF.DATA_OpC</td>\n",
       "      <td>0.000000e+00</td>\n",
       "    </tr>\n",
       "    <tr>\n",
       "      <th>10</th>\n",
       "      <td>2000-01-01</td>\n",
       "      <td>51396</td>\n",
       "      <td>HONDA</td>\n",
       "      <td>IF.DATA_PartLuc</td>\n",
       "      <td>0.000000e+00</td>\n",
       "    </tr>\n",
       "    <tr>\n",
       "      <th>11</th>\n",
       "      <td>2000-01-01</td>\n",
       "      <td>51396</td>\n",
       "      <td>HONDA</td>\n",
       "      <td>IF.DATA_RdOC</td>\n",
       "      <td>0.000000e+00</td>\n",
       "    </tr>\n",
       "    <tr>\n",
       "      <th>12</th>\n",
       "      <td>2000-01-01</td>\n",
       "      <td>556603</td>\n",
       "      <td>BARIGUI S.A. CREDITO, FINANCIAMENTO E INVESTIM...</td>\n",
       "      <td>IF.DATA_Capt</td>\n",
       "      <td>3.973718e+06</td>\n",
       "    </tr>\n",
       "  </tbody>\n",
       "</table>\n",
       "</div>"
      ],
      "text/plain": [
       "         data  id_banco                                               nome  \\\n",
       "0  2000-01-01     51262                                    DAIMLERCHRYSLER   \n",
       "1  2000-01-01     51262                                    DAIMLERCHRYSLER   \n",
       "2  2000-01-01     51262                                    DAIMLERCHRYSLER   \n",
       "3  2000-01-01     51262                                    DAIMLERCHRYSLER   \n",
       "4  2000-01-01     51262                                    DAIMLERCHRYSLER   \n",
       "5  2000-01-01     51262                                    DAIMLERCHRYSLER   \n",
       "6  2000-01-01     51396                                              HONDA   \n",
       "7  2000-01-01     51396                                              HONDA   \n",
       "8  2000-01-01     51396                                              HONDA   \n",
       "9  2000-01-01     51396                                              HONDA   \n",
       "10 2000-01-01     51396                                              HONDA   \n",
       "11 2000-01-01     51396                                              HONDA   \n",
       "12 2000-01-01    556603  BARIGUI S.A. CREDITO, FINANCIAMENTO E INVESTIM...   \n",
       "\n",
       "           variavel         valor  \n",
       "0      IF.DATA_Capt  7.026241e+08  \n",
       "1      IF.DATA_DCap -3.580450e+06  \n",
       "2       IF.DATA_JCP  0.000000e+00  \n",
       "3       IF.DATA_OpC  2.043372e+08  \n",
       "4   IF.DATA_PartLuc  0.000000e+00  \n",
       "5      IF.DATA_RdOC  3.270653e+06  \n",
       "6      IF.DATA_Capt  0.000000e+00  \n",
       "7      IF.DATA_DCap  0.000000e+00  \n",
       "8       IF.DATA_JCP  0.000000e+00  \n",
       "9       IF.DATA_OpC  0.000000e+00  \n",
       "10  IF.DATA_PartLuc  0.000000e+00  \n",
       "11     IF.DATA_RdOC  0.000000e+00  \n",
       "12     IF.DATA_Capt  3.973718e+06  "
      ]
     },
     "execution_count": 6,
     "metadata": {},
     "output_type": "execute_result"
    }
   ],
   "source": [
    "df.head(13)"
   ]
  },
  {
   "cell_type": "markdown",
   "metadata": {},
   "source": [
    "<h1 style=\"color: red\">Quantidade Nomes Diferentes:</h1>"
   ]
  },
  {
   "cell_type": "code",
   "execution_count": 7,
   "metadata": {},
   "outputs": [
    {
     "data": {
      "text/plain": [
       "131"
      ]
     },
     "execution_count": 7,
     "metadata": {},
     "output_type": "execute_result"
    }
   ],
   "source": [
    "nomes = df['nome'].drop_duplicates().reset_index(drop=True)\n",
    "nomes.count()\n",
    "#nomes[1]"
   ]
  },
  {
   "cell_type": "markdown",
   "metadata": {},
   "source": [
    "## Últimos Nomes"
   ]
  },
  {
   "cell_type": "code",
   "execution_count": 8,
   "metadata": {},
   "outputs": [
    {
     "data": {
      "text/plain": [
       "id_banco    67\n",
       "nome        67\n",
       "dtype: int64"
      ]
     },
     "execution_count": 8,
     "metadata": {},
     "output_type": "execute_result"
    }
   ],
   "source": [
    "#df[['id_banco','nome']].drop_duplicates().reset_index(drop=True)\n",
    "ultimos_nomes = df[df['data'].dt.year == 2019][['id_banco','nome']]\n",
    "ultimos_nomes.drop_duplicates().count()"
   ]
  },
  {
   "cell_type": "markdown",
   "metadata": {},
   "source": [
    "<h1 style=\"color: red\">Quantidade de Identificadores das IFs</h1>"
   ]
  },
  {
   "cell_type": "code",
   "execution_count": 9,
   "metadata": {},
   "outputs": [
    {
     "data": {
      "text/plain": [
       "65"
      ]
     },
     "execution_count": 9,
     "metadata": {},
     "output_type": "execute_result"
    }
   ],
   "source": [
    "ids= df['id_banco'].drop_duplicates().reset_index(drop=True)\n",
    "ids.count()"
   ]
  },
  {
   "cell_type": "code",
   "execution_count": 10,
   "metadata": {},
   "outputs": [],
   "source": [
    "par_nome_id_banco = df[['nome','id_banco']].drop_duplicates()\n",
    "par_nome_id_banco[par_nome_id_banco['nome']== 'CECM DOS MEDICOS DE CHAPECO LTDA']\n",
    "def get_id_banco(nome):\n",
    "    id = par_nome_id_banco[par_nome_id_banco['nome']== nome]['id_banco']\n",
    "    return id.values[0]\n",
    "#get_id_banco('FIAT')"
   ]
  },
  {
   "cell_type": "markdown",
   "metadata": {},
   "source": [
    "<h1 style=\"color: red\">Nossa conta vai levar em consideração a IF pelo nome (556) ou pelo identificador (100)\n",
    "que eu imagino que seja o grupo?</h1>"
   ]
  },
  {
   "cell_type": "markdown",
   "metadata": {},
   "source": [
    "<h1 style=\"color: red\">Olha a quantidade de nomes diferentes por identificador:</h1>"
   ]
  },
  {
   "cell_type": "code",
   "execution_count": 11,
   "metadata": {},
   "outputs": [
    {
     "data": {
      "text/plain": [
       "[[]]"
      ]
     },
     "execution_count": 11,
     "metadata": {},
     "output_type": "execute_result"
    },
    {
     "data": {
      "image/png": "[encoded data removed]",
      "text/plain": [
       "<Figure size 1152x432 with 1 Axes>"
      ]
     },
     "metadata": {
      "needs_background": "light"
     },
     "output_type": "display_data"
    }
   ],
   "source": [
    "unique_names = df[['id_banco','nome']].drop_duplicates()\n",
    "unique_names.sort_values(by=['id_banco'], inplace=True)\n",
    "unique_names\n",
    "#10 6 9 3\n",
    "figure(figsize=(16, 6))\n",
    "x = unique_names.groupby('id_banco').count().index\n",
    "y = unique_names.groupby('id_banco').count().values.reshape(-1,)\n",
    "g0=sns.barplot(x, y)\n",
    "plt.axhline(y.mean(), color='k', linestyle='dashed', linewidth=2)\n",
    "g0.set(xticklabels=[])"
   ]
  },
  {
   "cell_type": "markdown",
   "metadata": {},
   "source": [
    "# Variáveis"
   ]
  },
  {
   "cell_type": "code",
   "execution_count": 12,
   "metadata": {
    "scrolled": false
   },
   "outputs": [
    {
     "data": {
      "text/plain": [
       "0       IF.DATA_Capt\n",
       "1       IF.DATA_DCap\n",
       "2        IF.DATA_JCP\n",
       "3        IF.DATA_OpC\n",
       "4    IF.DATA_PartLuc\n",
       "5       IF.DATA_RdOC\n",
       "Name: variavel, dtype: object"
      ]
     },
     "execution_count": 12,
     "metadata": {},
     "output_type": "execute_result"
    }
   ],
   "source": [
    "df['variavel'].drop_duplicates()"
   ]
  },
  {
   "cell_type": "markdown",
   "metadata": {},
   "source": [
    "<ul>\n",
    "    <li>RdOC: Receitas com operações de crédito</li>\n",
    "    <li>OpC: Operações de crédito</li>\n",
    "    <li>Capt: Captações</li>\n",
    "    <li>Dcap: Despesas de captação de crédito</li>\n",
    "    <li>JCP: juro sobre capital próprio</li>\n",
    "    <li>PartLuc: sobra líquida</li>\n",
    "    <li style=\"color:red\">OpCmed: média entre o mês no ano e o mesmo mês do ano anterior</li>\n",
    "</ul>"
   ]
  },
  {
   "cell_type": "markdown",
   "metadata": {},
   "source": [
    "<h1 style=\"color: red\">Está correto dizer que a fórmula é a seguinte?</h1>"
   ]
  },
  {
   "cell_type": "markdown",
   "metadata": {},
   "source": [
    "<h2 style=\"color:green\">\n",
    "$spread_{coop}=\\left(\\frac{RdOC_{t}}{\\frac{OpC_{t}+OpC_{t-12}}{2}}\\right)-\n",
    "\\left(\\frac{DCap_{t}}{\\frac{Capt_{t}+Capt_{t-12}}{2}}\\right) - \n",
    "\\left(\\frac{PartLuc_{t} + JCP_{t}} \n",
    "{\\frac {\\left(\\frac{OpC_{t} + OpC_{t - 12}}{2}\\right)-\\left(\\frac{Capt_{t} + Capt_{t-12}}{2}\\right)}{2}}\\right)$\n",
    "</h2>"
   ]
  },
  {
   "cell_type": "markdown",
   "metadata": {},
   "source": [
    "<h1 style=\"color: red\">Na imagem que tu tinhas mandado esse termo:\n",
    "    $\\left(\n",
    "        \\frac\n",
    "            {SobraLiq_{i} + JCP_{t}}\n",
    "            {\n",
    "                \\frac\n",
    "                    {OpC_{med} - Capt_{med}}\n",
    "                    {2}\n",
    "            }\n",
    "    \\right)$<br>\n",
    "    tem um 'i' que não deu pra entender o que é.\n",
    "</h1>"
   ]
  },
  {
   "cell_type": "markdown",
   "metadata": {},
   "source": [
    "<h1 style=\"color: red\">Pelo que eu entendi do teu comentário o termo $OpC_{med}$ e $Capt_{med}$ seriam:</h1>"
   ]
  },
  {
   "cell_type": "markdown",
   "metadata": {},
   "source": [
    "<h1 style=\"color: green\">$OpC_{med} = \\frac{OpC_{t} + OpC_{t - 12}}{2}$<h1>"
   ]
  },
  {
   "cell_type": "markdown",
   "metadata": {},
   "source": [
    "<h1 style=\"color: green\">$Capt_{med}= \\frac{Capt_{t} + Capt_{t-12}}{2}$</h1>"
   ]
  },
  {
   "cell_type": "markdown",
   "metadata": {},
   "source": [
    "<h1 style=\"color: red\">Já que se tratam de médias entre meses com um ano de diferença.</h1>"
   ]
  },
  {
   "cell_type": "code",
   "execution_count": 13,
   "metadata": {},
   "outputs": [
    {
     "data": {
      "text/plain": [
       "51262"
      ]
     },
     "execution_count": 13,
     "metadata": {},
     "output_type": "execute_result"
    }
   ],
   "source": [
    "ids[0]"
   ]
  },
  {
   "cell_type": "code",
   "execution_count": 14,
   "metadata": {},
   "outputs": [
    {
     "data": {
      "text/html": [
       "<div>\n",
       "<style scoped>\n",
       "    .dataframe tbody tr th:only-of-type {\n",
       "        vertical-align: middle;\n",
       "    }\n",
       "\n",
       "    .dataframe tbody tr th {\n",
       "        vertical-align: top;\n",
       "    }\n",
       "\n",
       "    .dataframe thead th {\n",
       "        text-align: right;\n",
       "    }\n",
       "</style>\n",
       "<table border=\"1\" class=\"dataframe\">\n",
       "  <thead>\n",
       "    <tr style=\"text-align: right;\">\n",
       "      <th></th>\n",
       "      <th>nome</th>\n",
       "      <th>id_banco</th>\n",
       "    </tr>\n",
       "  </thead>\n",
       "  <tbody>\n",
       "    <tr>\n",
       "      <th>0</th>\n",
       "      <td>DAIMLERCHRYSLER</td>\n",
       "      <td>51262</td>\n",
       "    </tr>\n",
       "    <tr>\n",
       "      <th>25116</th>\n",
       "      <td>MERCEDES-BENZ</td>\n",
       "      <td>51262</td>\n",
       "    </tr>\n",
       "  </tbody>\n",
       "</table>\n",
       "</div>"
      ],
      "text/plain": [
       "                  nome  id_banco\n",
       "0      DAIMLERCHRYSLER     51262\n",
       "25116    MERCEDES-BENZ     51262"
      ]
     },
     "execution_count": 14,
     "metadata": {},
     "output_type": "execute_result"
    }
   ],
   "source": [
    "df[df['id_banco']==ids[0]][['nome','id_banco']].drop_duplicates()"
   ]
  },
  {
   "cell_type": "markdown",
   "metadata": {},
   "source": [
    "# Pivot"
   ]
  },
  {
   "cell_type": "markdown",
   "metadata": {},
   "source": [
    "## Pivot pelo nome"
   ]
  },
  {
   "cell_type": "markdown",
   "metadata": {
    "scrolled": true
   },
   "source": [
    "def pivot_IF(nome_IF):\n",
    "    pivot = df[df['nome']== nome_IF].pivot(index='data', columns='variavel',values='valor')\n",
    "    pivot['OpC_off_1'] = pivot['IF.DATA_OpC'].shift(1)\n",
    "    pivot['OpC_off_12'] = pivot['IF.DATA_OpC'].shift(12)\n",
    "    pivot['Capt_off_1'] = pivot['IF.DATA_Capt'].shift(1)\n",
    "    pivot['Capt_off_12'] = pivot['IF.DATA_Capt'].shift(12)\n",
    "    pivot['taxApl'] = pivot['IF.DATA_RdOC'] / ((pivot['IF.DATA_OpC'] + pivot['OpC_off_1'])/2)\n",
    "    pivot['taxCapt'] = pivot['IF.DATA_DCap'] / ((pivot['IF.DATA_Capt'] + pivot['Capt_off_1'])/2)\n",
    "    pivot['spread_banc'] = pivot['taxApl'] +  pivot['taxCapt'] # a captação tem sinal negativo\n",
    "    cols=['spread_banc','taxApl','taxCapt','IF.DATA_DCap', 'IF.DATA_JCP','IF.DATA_PartLuc', 'IF.DATA_RdOC',\n",
    "     'IF.DATA_OpC','OpC_off_1', 'OpC_off_12',\n",
    "     'IF.DATA_Capt', 'Capt_off_1', 'Capt_off_12']\n",
    "    return pivot[cols]\n",
    "pivot_IF(nomes[0])"
   ]
  },
  {
   "cell_type": "markdown",
   "metadata": {},
   "source": [
    "## Pivot pelo id"
   ]
  },
  {
   "cell_type": "code",
   "execution_count": 15,
   "metadata": {},
   "outputs": [
    {
     "data": {
      "text/plain": [
       "-6"
      ]
     },
     "execution_count": 15,
     "metadata": {},
     "output_type": "execute_result"
    }
   ],
   "source": [
    "pd.Series([-1,-2,-3]).sum()"
   ]
  },
  {
   "cell_type": "markdown",
   "metadata": {},
   "source": [
    "<h2 style=\"color:green\">\n",
    "<p>t é o ano</p>\n",
    "$spread_{coop}=\\left(\\frac{RdOC_{t}}{\\frac{OpC_{t}+OpC_{t-1}}{2}}\\right)-\n",
    "\\left(\\frac{DCap_{t}}{\\frac{Capt_{t}+Capt_{t-1}}{2}}\\right) - \n",
    "\\left(\\frac{PartLuc_{t} + JCP_{t}} \n",
    "{\\frac {\\left(\\frac{OpC_{t} + OpC_{t - 1}}{2}\\right)-\\left(\\frac{Capt_{t} + Capt_{t-1}}{2}\\right)}{2}}\\right)$\n",
    "</h2>"
   ]
  },
  {
   "cell_type": "markdown",
   "metadata": {},
   "source": [
    "<h2 style=\"color:green\">\n",
    "$\n",
    "se \\left(\\frac{OpC_{t} + OpC_{t - 1}}{2}\\right) > \\left(\\frac{Capt_{t} + Capt_{t-1}}{2}\\right)\n",
    "$\n",
    "    <br><br>\n",
    "$\n",
    "\\left(\\frac{PartLuc_{t} + JCP_{t}}\n",
    "{\\frac {\\left(\\frac{OpC_{t} + OpC_{t - 1}}{2}\\right)-\\left(\\frac{Capt_{t} + Capt_{t-1}}{2}\\right)}{2}}\\right)$\n",
    "será negativo\n",
    "    <br><br>\n",
    "Do contrário, teremos um número positivo e, portanto, um spread na cooperativa menor que o cálculo do spread bancário.\n",
    "</h2>"
   ]
  },
  {
   "cell_type": "code",
   "execution_count": 16,
   "metadata": {},
   "outputs": [
    {
     "data": {
      "text/plain": [
       "51262"
      ]
     },
     "execution_count": 16,
     "metadata": {},
     "output_type": "execute_result"
    }
   ],
   "source": [
    "ids[0]"
   ]
  },
  {
   "cell_type": "code",
   "execution_count": 17,
   "metadata": {
    "scrolled": false
   },
   "outputs": [
    {
     "data": {
      "text/html": [
       "<div>\n",
       "<style scoped>\n",
       "    .dataframe tbody tr th:only-of-type {\n",
       "        vertical-align: middle;\n",
       "    }\n",
       "\n",
       "    .dataframe tbody tr th {\n",
       "        vertical-align: top;\n",
       "    }\n",
       "\n",
       "    .dataframe thead th {\n",
       "        text-align: right;\n",
       "    }\n",
       "</style>\n",
       "<table border=\"1\" class=\"dataframe\">\n",
       "  <thead>\n",
       "    <tr style=\"text-align: right;\">\n",
       "      <th>variavel</th>\n",
       "      <th>id</th>\n",
       "      <th>spread_banc</th>\n",
       "      <th>taxApl</th>\n",
       "      <th>taxCapt</th>\n",
       "      <th>IF.DATA_DCap</th>\n",
       "      <th>IF.DATA_RdOC</th>\n",
       "      <th>IF.DATA_OpC</th>\n",
       "      <th>OpC_off_1</th>\n",
       "      <th>IF.DATA_Capt</th>\n",
       "      <th>Capt_off_1</th>\n",
       "    </tr>\n",
       "    <tr>\n",
       "      <th>data</th>\n",
       "      <th></th>\n",
       "      <th></th>\n",
       "      <th></th>\n",
       "      <th></th>\n",
       "      <th></th>\n",
       "      <th></th>\n",
       "      <th></th>\n",
       "      <th></th>\n",
       "      <th></th>\n",
       "      <th></th>\n",
       "    </tr>\n",
       "  </thead>\n",
       "  <tbody>\n",
       "    <tr>\n",
       "      <th>2000</th>\n",
       "      <td>51262</td>\n",
       "      <td>NaN</td>\n",
       "      <td>NaN</td>\n",
       "      <td>NaN</td>\n",
       "      <td>-1.729596e+08</td>\n",
       "      <td>1.979055e+08</td>\n",
       "      <td>4.187463e+09</td>\n",
       "      <td>NaN</td>\n",
       "      <td>9.511334e+09</td>\n",
       "      <td>NaN</td>\n",
       "    </tr>\n",
       "    <tr>\n",
       "      <th>2001</th>\n",
       "      <td>51262</td>\n",
       "      <td>0.037914</td>\n",
       "      <td>0.061882</td>\n",
       "      <td>-0.023968</td>\n",
       "      <td>-2.593314e+08</td>\n",
       "      <td>3.723846e+08</td>\n",
       "      <td>7.847867e+09</td>\n",
       "      <td>4.187463e+09</td>\n",
       "      <td>1.212885e+10</td>\n",
       "      <td>9.511334e+09</td>\n",
       "    </tr>\n",
       "    <tr>\n",
       "      <th>2002</th>\n",
       "      <td>51262</td>\n",
       "      <td>0.043974</td>\n",
       "      <td>0.055916</td>\n",
       "      <td>-0.011943</td>\n",
       "      <td>-1.396134e+08</td>\n",
       "      <td>4.803954e+08</td>\n",
       "      <td>9.334737e+09</td>\n",
       "      <td>7.847867e+09</td>\n",
       "      <td>1.125141e+10</td>\n",
       "      <td>1.212885e+10</td>\n",
       "    </tr>\n",
       "    <tr>\n",
       "      <th>2003</th>\n",
       "      <td>51262</td>\n",
       "      <td>0.057963</td>\n",
       "      <td>0.058555</td>\n",
       "      <td>-0.000592</td>\n",
       "      <td>-6.626285e+06</td>\n",
       "      <td>5.988841e+08</td>\n",
       "      <td>1.112065e+10</td>\n",
       "      <td>9.334737e+09</td>\n",
       "      <td>1.113968e+10</td>\n",
       "      <td>1.125141e+10</td>\n",
       "    </tr>\n",
       "    <tr>\n",
       "      <th>2004</th>\n",
       "      <td>51262</td>\n",
       "      <td>0.055322</td>\n",
       "      <td>0.059124</td>\n",
       "      <td>-0.003801</td>\n",
       "      <td>-4.959922e+07</td>\n",
       "      <td>8.367596e+08</td>\n",
       "      <td>1.718480e+10</td>\n",
       "      <td>1.112065e+10</td>\n",
       "      <td>1.495506e+10</td>\n",
       "      <td>1.113968e+10</td>\n",
       "    </tr>\n",
       "    <tr>\n",
       "      <th>2005</th>\n",
       "      <td>51262</td>\n",
       "      <td>0.042993</td>\n",
       "      <td>0.054907</td>\n",
       "      <td>-0.011914</td>\n",
       "      <td>-2.227037e+08</td>\n",
       "      <td>1.136769e+09</td>\n",
       "      <td>2.422232e+10</td>\n",
       "      <td>1.718480e+10</td>\n",
       "      <td>2.242882e+10</td>\n",
       "      <td>1.495506e+10</td>\n",
       "    </tr>\n",
       "    <tr>\n",
       "      <th>2006</th>\n",
       "      <td>51262</td>\n",
       "      <td>0.025355</td>\n",
       "      <td>0.034018</td>\n",
       "      <td>-0.008663</td>\n",
       "      <td>-2.119387e+08</td>\n",
       "      <td>8.579590e+08</td>\n",
       "      <td>2.621867e+10</td>\n",
       "      <td>2.422232e+10</td>\n",
       "      <td>2.649987e+10</td>\n",
       "      <td>2.242882e+10</td>\n",
       "    </tr>\n",
       "    <tr>\n",
       "      <th>2007</th>\n",
       "      <td>51262</td>\n",
       "      <td>0.021112</td>\n",
       "      <td>0.034143</td>\n",
       "      <td>-0.013031</td>\n",
       "      <td>-3.679246e+08</td>\n",
       "      <td>8.678642e+08</td>\n",
       "      <td>2.461855e+10</td>\n",
       "      <td>2.621867e+10</td>\n",
       "      <td>2.996818e+10</td>\n",
       "      <td>2.649987e+10</td>\n",
       "    </tr>\n",
       "    <tr>\n",
       "      <th>2008</th>\n",
       "      <td>51262</td>\n",
       "      <td>0.020690</td>\n",
       "      <td>0.033321</td>\n",
       "      <td>-0.012631</td>\n",
       "      <td>-4.490806e+08</td>\n",
       "      <td>9.434243e+08</td>\n",
       "      <td>3.200785e+10</td>\n",
       "      <td>2.461855e+10</td>\n",
       "      <td>4.113941e+10</td>\n",
       "      <td>2.996818e+10</td>\n",
       "    </tr>\n",
       "    <tr>\n",
       "      <th>2009</th>\n",
       "      <td>51262</td>\n",
       "      <td>0.022881</td>\n",
       "      <td>0.032680</td>\n",
       "      <td>-0.009798</td>\n",
       "      <td>-4.650663e+08</td>\n",
       "      <td>1.270935e+09</td>\n",
       "      <td>4.577303e+10</td>\n",
       "      <td>3.200785e+10</td>\n",
       "      <td>5.378779e+10</td>\n",
       "      <td>4.113941e+10</td>\n",
       "    </tr>\n",
       "    <tr>\n",
       "      <th>2010</th>\n",
       "      <td>51262</td>\n",
       "      <td>0.028429</td>\n",
       "      <td>0.031133</td>\n",
       "      <td>-0.002705</td>\n",
       "      <td>-1.590494e+08</td>\n",
       "      <td>1.715528e+09</td>\n",
       "      <td>6.443250e+10</td>\n",
       "      <td>4.577303e+10</td>\n",
       "      <td>6.382747e+10</td>\n",
       "      <td>5.378779e+10</td>\n",
       "    </tr>\n",
       "    <tr>\n",
       "      <th>2011</th>\n",
       "      <td>51262</td>\n",
       "      <td>0.029245</td>\n",
       "      <td>0.031680</td>\n",
       "      <td>-0.002436</td>\n",
       "      <td>-1.737159e+08</td>\n",
       "      <td>2.382554e+09</td>\n",
       "      <td>8.597895e+10</td>\n",
       "      <td>6.443250e+10</td>\n",
       "      <td>7.881344e+10</td>\n",
       "      <td>6.382747e+10</td>\n",
       "    </tr>\n",
       "    <tr>\n",
       "      <th>2012</th>\n",
       "      <td>51262</td>\n",
       "      <td>0.029559</td>\n",
       "      <td>0.034789</td>\n",
       "      <td>-0.005231</td>\n",
       "      <td>-4.564076e+08</td>\n",
       "      <td>3.269759e+09</td>\n",
       "      <td>1.019960e+11</td>\n",
       "      <td>8.597895e+10</td>\n",
       "      <td>9.570222e+10</td>\n",
       "      <td>7.881344e+10</td>\n",
       "    </tr>\n",
       "    <tr>\n",
       "      <th>2013</th>\n",
       "      <td>51262</td>\n",
       "      <td>0.024233</td>\n",
       "      <td>0.027982</td>\n",
       "      <td>-0.003749</td>\n",
       "      <td>-3.649438e+08</td>\n",
       "      <td>2.877959e+09</td>\n",
       "      <td>1.037059e+11</td>\n",
       "      <td>1.019960e+11</td>\n",
       "      <td>9.897313e+10</td>\n",
       "      <td>9.570222e+10</td>\n",
       "    </tr>\n",
       "    <tr>\n",
       "      <th>2014</th>\n",
       "      <td>51262</td>\n",
       "      <td>0.021955</td>\n",
       "      <td>0.026769</td>\n",
       "      <td>-0.004814</td>\n",
       "      <td>-4.924228e+08</td>\n",
       "      <td>2.884404e+09</td>\n",
       "      <td>1.117966e+11</td>\n",
       "      <td>1.037059e+11</td>\n",
       "      <td>1.055947e+11</td>\n",
       "      <td>9.897313e+10</td>\n",
       "    </tr>\n",
       "    <tr>\n",
       "      <th>2015</th>\n",
       "      <td>51262</td>\n",
       "      <td>0.024850</td>\n",
       "      <td>0.029675</td>\n",
       "      <td>-0.004825</td>\n",
       "      <td>-5.050949e+08</td>\n",
       "      <td>3.316785e+09</td>\n",
       "      <td>1.117473e+11</td>\n",
       "      <td>1.117966e+11</td>\n",
       "      <td>1.037683e+11</td>\n",
       "      <td>1.055947e+11</td>\n",
       "    </tr>\n",
       "    <tr>\n",
       "      <th>2016</th>\n",
       "      <td>51262</td>\n",
       "      <td>0.025774</td>\n",
       "      <td>0.030650</td>\n",
       "      <td>-0.004876</td>\n",
       "      <td>-4.632378e+08</td>\n",
       "      <td>3.170819e+09</td>\n",
       "      <td>9.515484e+10</td>\n",
       "      <td>1.117473e+11</td>\n",
       "      <td>8.621967e+10</td>\n",
       "      <td>1.037683e+11</td>\n",
       "    </tr>\n",
       "    <tr>\n",
       "      <th>2017</th>\n",
       "      <td>51262</td>\n",
       "      <td>0.030714</td>\n",
       "      <td>0.034948</td>\n",
       "      <td>-0.004234</td>\n",
       "      <td>-3.353583e+08</td>\n",
       "      <td>3.074965e+09</td>\n",
       "      <td>8.081731e+10</td>\n",
       "      <td>9.515484e+10</td>\n",
       "      <td>7.217897e+10</td>\n",
       "      <td>8.621967e+10</td>\n",
       "    </tr>\n",
       "    <tr>\n",
       "      <th>2018</th>\n",
       "      <td>51262</td>\n",
       "      <td>0.030699</td>\n",
       "      <td>0.036381</td>\n",
       "      <td>-0.005681</td>\n",
       "      <td>-4.318972e+08</td>\n",
       "      <td>3.091119e+09</td>\n",
       "      <td>8.911482e+10</td>\n",
       "      <td>8.081731e+10</td>\n",
       "      <td>7.986152e+10</td>\n",
       "      <td>7.217897e+10</td>\n",
       "    </tr>\n",
       "    <tr>\n",
       "      <th>2019</th>\n",
       "      <td>51262</td>\n",
       "      <td>0.019547</td>\n",
       "      <td>0.027408</td>\n",
       "      <td>-0.007861</td>\n",
       "      <td>-6.114421e+08</td>\n",
       "      <td>2.387538e+09</td>\n",
       "      <td>8.510496e+10</td>\n",
       "      <td>8.911482e+10</td>\n",
       "      <td>7.570442e+10</td>\n",
       "      <td>7.986152e+10</td>\n",
       "    </tr>\n",
       "  </tbody>\n",
       "</table>\n",
       "</div>"
      ],
      "text/plain": [
       "variavel     id  spread_banc    taxApl   taxCapt  IF.DATA_DCap  IF.DATA_RdOC  \\\n",
       "data                                                                           \n",
       "2000      51262          NaN       NaN       NaN -1.729596e+08  1.979055e+08   \n",
       "2001      51262     0.037914  0.061882 -0.023968 -2.593314e+08  3.723846e+08   \n",
       "2002      51262     0.043974  0.055916 -0.011943 -1.396134e+08  4.803954e+08   \n",
       "2003      51262     0.057963  0.058555 -0.000592 -6.626285e+06  5.988841e+08   \n",
       "2004      51262     0.055322  0.059124 -0.003801 -4.959922e+07  8.367596e+08   \n",
       "2005      51262     0.042993  0.054907 -0.011914 -2.227037e+08  1.136769e+09   \n",
       "2006      51262     0.025355  0.034018 -0.008663 -2.119387e+08  8.579590e+08   \n",
       "2007      51262     0.021112  0.034143 -0.013031 -3.679246e+08  8.678642e+08   \n",
       "2008      51262     0.020690  0.033321 -0.012631 -4.490806e+08  9.434243e+08   \n",
       "2009      51262     0.022881  0.032680 -0.009798 -4.650663e+08  1.270935e+09   \n",
       "2010      51262     0.028429  0.031133 -0.002705 -1.590494e+08  1.715528e+09   \n",
       "2011      51262     0.029245  0.031680 -0.002436 -1.737159e+08  2.382554e+09   \n",
       "2012      51262     0.029559  0.034789 -0.005231 -4.564076e+08  3.269759e+09   \n",
       "2013      51262     0.024233  0.027982 -0.003749 -3.649438e+08  2.877959e+09   \n",
       "2014      51262     0.021955  0.026769 -0.004814 -4.924228e+08  2.884404e+09   \n",
       "2015      51262     0.024850  0.029675 -0.004825 -5.050949e+08  3.316785e+09   \n",
       "2016      51262     0.025774  0.030650 -0.004876 -4.632378e+08  3.170819e+09   \n",
       "2017      51262     0.030714  0.034948 -0.004234 -3.353583e+08  3.074965e+09   \n",
       "2018      51262     0.030699  0.036381 -0.005681 -4.318972e+08  3.091119e+09   \n",
       "2019      51262     0.019547  0.027408 -0.007861 -6.114421e+08  2.387538e+09   \n",
       "\n",
       "variavel   IF.DATA_OpC     OpC_off_1  IF.DATA_Capt    Capt_off_1  \n",
       "data                                                              \n",
       "2000      4.187463e+09           NaN  9.511334e+09           NaN  \n",
       "2001      7.847867e+09  4.187463e+09  1.212885e+10  9.511334e+09  \n",
       "2002      9.334737e+09  7.847867e+09  1.125141e+10  1.212885e+10  \n",
       "2003      1.112065e+10  9.334737e+09  1.113968e+10  1.125141e+10  \n",
       "2004      1.718480e+10  1.112065e+10  1.495506e+10  1.113968e+10  \n",
       "2005      2.422232e+10  1.718480e+10  2.242882e+10  1.495506e+10  \n",
       "2006      2.621867e+10  2.422232e+10  2.649987e+10  2.242882e+10  \n",
       "2007      2.461855e+10  2.621867e+10  2.996818e+10  2.649987e+10  \n",
       "2008      3.200785e+10  2.461855e+10  4.113941e+10  2.996818e+10  \n",
       "2009      4.577303e+10  3.200785e+10  5.378779e+10  4.113941e+10  \n",
       "2010      6.443250e+10  4.577303e+10  6.382747e+10  5.378779e+10  \n",
       "2011      8.597895e+10  6.443250e+10  7.881344e+10  6.382747e+10  \n",
       "2012      1.019960e+11  8.597895e+10  9.570222e+10  7.881344e+10  \n",
       "2013      1.037059e+11  1.019960e+11  9.897313e+10  9.570222e+10  \n",
       "2014      1.117966e+11  1.037059e+11  1.055947e+11  9.897313e+10  \n",
       "2015      1.117473e+11  1.117966e+11  1.037683e+11  1.055947e+11  \n",
       "2016      9.515484e+10  1.117473e+11  8.621967e+10  1.037683e+11  \n",
       "2017      8.081731e+10  9.515484e+10  7.217897e+10  8.621967e+10  \n",
       "2018      8.911482e+10  8.081731e+10  7.986152e+10  7.217897e+10  \n",
       "2019      8.510496e+10  8.911482e+10  7.570442e+10  7.986152e+10  "
      ]
     },
     "execution_count": 17,
     "metadata": {},
     "output_type": "execute_result"
    }
   ],
   "source": [
    "def pivot_IF(id):\n",
    "    #print(id)\n",
    "    pivot = df[df['id_banco']== id].pivot(index='data', columns='variavel',values='valor')\n",
    "    pivot = pivot.groupby(pivot.index.year).sum()\n",
    "    pivot['id'] = id\n",
    "    pivot['OpC_off_1'] = pivot['IF.DATA_OpC'].shift(1)\n",
    "    #pivot['OpC_off_12'] = pivot['IF.DATA_OpC'].shift(12)\n",
    "    pivot['Capt_off_1'] = pivot['IF.DATA_Capt'].shift(1)\n",
    "    #pivot['Capt_off_12'] = pivot['IF.DATA_Capt'].shift(12)\n",
    "    pivot['taxApl'] = pivot['IF.DATA_RdOC'] / ((pivot['IF.DATA_OpC'] + pivot['OpC_off_1'])/2)\n",
    "    pivot['taxCapt'] = pivot['IF.DATA_DCap'] / ((pivot['IF.DATA_Capt'] + pivot['Capt_off_1'])/2)\n",
    "    pivot['spread_banc'] = pivot['taxApl'] +  pivot['taxCapt'] # a captação tem sinal negativo\n",
    "    # termo coop é negativo se a media de operações de crédito for maior que\n",
    "    # a média de captação \n",
    "    cols=['id','spread_banc', 'taxApl','taxCapt','IF.DATA_DCap', 'IF.DATA_RdOC',\n",
    "     'IF.DATA_OpC','OpC_off_1', 'IF.DATA_Capt', 'Capt_off_1']\n",
    "    return pivot[cols]\n",
    "pivot_IF(ids[0])"
   ]
  },
  {
   "cell_type": "code",
   "execution_count": 18,
   "metadata": {
    "scrolled": true
   },
   "outputs": [
    {
     "data": {
      "text/plain": [
       "Index(['id', 'spread_banc', 'taxApl', 'taxCapt', 'IF.DATA_DCap',\n",
       "       'IF.DATA_RdOC', 'IF.DATA_OpC', 'OpC_off_1', 'IF.DATA_Capt',\n",
       "       'Capt_off_1'],\n",
       "      dtype='object', name='variavel')"
      ]
     },
     "execution_count": 18,
     "metadata": {},
     "output_type": "execute_result"
    }
   ],
   "source": [
    "test_if = pivot_IF(ids[1])\n",
    "test_if.columns"
   ]
  },
  {
   "cell_type": "code",
   "execution_count": 19,
   "metadata": {
    "scrolled": false
   },
   "outputs": [],
   "source": [
    "def monta_csv():\n",
    "    cols=['id','spread_banc', 'taxApl','taxCapt','IF.DATA_DCap', 'IF.DATA_RdOC',\n",
    "     'IF.DATA_OpC','OpC_off_1', 'IF.DATA_Capt', 'Capt_off_1']\n",
    "    total = pd.DataFrame(columns=cols)\n",
    "    for n in ids:\n",
    "        total = total.append(pivot_IF(n))\n",
    "    return total\n",
    "completo = monta_csv()\n",
    "#completo.to_csv(\"arrumado_b2.csv\", encoding=\"latin1\", sep=\";\")"
   ]
  },
  {
   "cell_type": "code",
   "execution_count": 20,
   "metadata": {},
   "outputs": [
    {
     "data": {
      "text/plain": [
       "65"
      ]
     },
     "execution_count": 20,
     "metadata": {},
     "output_type": "execute_result"
    }
   ],
   "source": [
    "ids.count()"
   ]
  },
  {
   "cell_type": "code",
   "execution_count": 21,
   "metadata": {},
   "outputs": [
    {
     "data": {
      "text/plain": [
       "65"
      ]
     },
     "execution_count": 21,
     "metadata": {},
     "output_type": "execute_result"
    }
   ],
   "source": [
    "len(completo['id'].unique())"
   ]
  },
  {
   "cell_type": "code",
   "execution_count": 22,
   "metadata": {},
   "outputs": [
    {
     "data": {
      "text/html": [
       "<div>\n",
       "<style scoped>\n",
       "    .dataframe tbody tr th:only-of-type {\n",
       "        vertical-align: middle;\n",
       "    }\n",
       "\n",
       "    .dataframe tbody tr th {\n",
       "        vertical-align: top;\n",
       "    }\n",
       "\n",
       "    .dataframe thead th {\n",
       "        text-align: right;\n",
       "    }\n",
       "</style>\n",
       "<table border=\"1\" class=\"dataframe\">\n",
       "  <thead>\n",
       "    <tr style=\"text-align: right;\">\n",
       "      <th>variavel</th>\n",
       "      <th>id</th>\n",
       "      <th>spread_banc</th>\n",
       "      <th>taxApl</th>\n",
       "      <th>taxCapt</th>\n",
       "      <th>IF.DATA_DCap</th>\n",
       "      <th>IF.DATA_RdOC</th>\n",
       "      <th>IF.DATA_OpC</th>\n",
       "      <th>OpC_off_1</th>\n",
       "      <th>IF.DATA_Capt</th>\n",
       "      <th>Capt_off_1</th>\n",
       "    </tr>\n",
       "  </thead>\n",
       "  <tbody>\n",
       "    <tr>\n",
       "      <th>2000</th>\n",
       "      <td>51262</td>\n",
       "      <td>NaN</td>\n",
       "      <td>NaN</td>\n",
       "      <td>NaN</td>\n",
       "      <td>-1.729596e+08</td>\n",
       "      <td>1.979055e+08</td>\n",
       "      <td>4.187463e+09</td>\n",
       "      <td>NaN</td>\n",
       "      <td>9.511334e+09</td>\n",
       "      <td>NaN</td>\n",
       "    </tr>\n",
       "    <tr>\n",
       "      <th>2001</th>\n",
       "      <td>51262</td>\n",
       "      <td>0.037914</td>\n",
       "      <td>0.061882</td>\n",
       "      <td>-0.023968</td>\n",
       "      <td>-2.593314e+08</td>\n",
       "      <td>3.723846e+08</td>\n",
       "      <td>7.847867e+09</td>\n",
       "      <td>4.187463e+09</td>\n",
       "      <td>1.212885e+10</td>\n",
       "      <td>9.511334e+09</td>\n",
       "    </tr>\n",
       "    <tr>\n",
       "      <th>2002</th>\n",
       "      <td>51262</td>\n",
       "      <td>0.043974</td>\n",
       "      <td>0.055916</td>\n",
       "      <td>-0.011943</td>\n",
       "      <td>-1.396134e+08</td>\n",
       "      <td>4.803954e+08</td>\n",
       "      <td>9.334737e+09</td>\n",
       "      <td>7.847867e+09</td>\n",
       "      <td>1.125141e+10</td>\n",
       "      <td>1.212885e+10</td>\n",
       "    </tr>\n",
       "    <tr>\n",
       "      <th>2003</th>\n",
       "      <td>51262</td>\n",
       "      <td>0.057963</td>\n",
       "      <td>0.058555</td>\n",
       "      <td>-0.000592</td>\n",
       "      <td>-6.626285e+06</td>\n",
       "      <td>5.988841e+08</td>\n",
       "      <td>1.112065e+10</td>\n",
       "      <td>9.334737e+09</td>\n",
       "      <td>1.113968e+10</td>\n",
       "      <td>1.125141e+10</td>\n",
       "    </tr>\n",
       "    <tr>\n",
       "      <th>2004</th>\n",
       "      <td>51262</td>\n",
       "      <td>0.055322</td>\n",
       "      <td>0.059124</td>\n",
       "      <td>-0.003801</td>\n",
       "      <td>-4.959922e+07</td>\n",
       "      <td>8.367596e+08</td>\n",
       "      <td>1.718480e+10</td>\n",
       "      <td>1.112065e+10</td>\n",
       "      <td>1.495506e+10</td>\n",
       "      <td>1.113968e+10</td>\n",
       "    </tr>\n",
       "    <tr>\n",
       "      <th>2005</th>\n",
       "      <td>51262</td>\n",
       "      <td>0.042993</td>\n",
       "      <td>0.054907</td>\n",
       "      <td>-0.011914</td>\n",
       "      <td>-2.227037e+08</td>\n",
       "      <td>1.136769e+09</td>\n",
       "      <td>2.422232e+10</td>\n",
       "      <td>1.718480e+10</td>\n",
       "      <td>2.242882e+10</td>\n",
       "      <td>1.495506e+10</td>\n",
       "    </tr>\n",
       "    <tr>\n",
       "      <th>2006</th>\n",
       "      <td>51262</td>\n",
       "      <td>0.025355</td>\n",
       "      <td>0.034018</td>\n",
       "      <td>-0.008663</td>\n",
       "      <td>-2.119387e+08</td>\n",
       "      <td>8.579590e+08</td>\n",
       "      <td>2.621867e+10</td>\n",
       "      <td>2.422232e+10</td>\n",
       "      <td>2.649987e+10</td>\n",
       "      <td>2.242882e+10</td>\n",
       "    </tr>\n",
       "    <tr>\n",
       "      <th>2007</th>\n",
       "      <td>51262</td>\n",
       "      <td>0.021112</td>\n",
       "      <td>0.034143</td>\n",
       "      <td>-0.013031</td>\n",
       "      <td>-3.679246e+08</td>\n",
       "      <td>8.678642e+08</td>\n",
       "      <td>2.461855e+10</td>\n",
       "      <td>2.621867e+10</td>\n",
       "      <td>2.996818e+10</td>\n",
       "      <td>2.649987e+10</td>\n",
       "    </tr>\n",
       "    <tr>\n",
       "      <th>2008</th>\n",
       "      <td>51262</td>\n",
       "      <td>0.020690</td>\n",
       "      <td>0.033321</td>\n",
       "      <td>-0.012631</td>\n",
       "      <td>-4.490806e+08</td>\n",
       "      <td>9.434243e+08</td>\n",
       "      <td>3.200785e+10</td>\n",
       "      <td>2.461855e+10</td>\n",
       "      <td>4.113941e+10</td>\n",
       "      <td>2.996818e+10</td>\n",
       "    </tr>\n",
       "    <tr>\n",
       "      <th>2009</th>\n",
       "      <td>51262</td>\n",
       "      <td>0.022881</td>\n",
       "      <td>0.032680</td>\n",
       "      <td>-0.009798</td>\n",
       "      <td>-4.650663e+08</td>\n",
       "      <td>1.270935e+09</td>\n",
       "      <td>4.577303e+10</td>\n",
       "      <td>3.200785e+10</td>\n",
       "      <td>5.378779e+10</td>\n",
       "      <td>4.113941e+10</td>\n",
       "    </tr>\n",
       "    <tr>\n",
       "      <th>2010</th>\n",
       "      <td>51262</td>\n",
       "      <td>0.028429</td>\n",
       "      <td>0.031133</td>\n",
       "      <td>-0.002705</td>\n",
       "      <td>-1.590494e+08</td>\n",
       "      <td>1.715528e+09</td>\n",
       "      <td>6.443250e+10</td>\n",
       "      <td>4.577303e+10</td>\n",
       "      <td>6.382747e+10</td>\n",
       "      <td>5.378779e+10</td>\n",
       "    </tr>\n",
       "    <tr>\n",
       "      <th>2011</th>\n",
       "      <td>51262</td>\n",
       "      <td>0.029245</td>\n",
       "      <td>0.031680</td>\n",
       "      <td>-0.002436</td>\n",
       "      <td>-1.737159e+08</td>\n",
       "      <td>2.382554e+09</td>\n",
       "      <td>8.597895e+10</td>\n",
       "      <td>6.443250e+10</td>\n",
       "      <td>7.881344e+10</td>\n",
       "      <td>6.382747e+10</td>\n",
       "    </tr>\n",
       "    <tr>\n",
       "      <th>2012</th>\n",
       "      <td>51262</td>\n",
       "      <td>0.029559</td>\n",
       "      <td>0.034789</td>\n",
       "      <td>-0.005231</td>\n",
       "      <td>-4.564076e+08</td>\n",
       "      <td>3.269759e+09</td>\n",
       "      <td>1.019960e+11</td>\n",
       "      <td>8.597895e+10</td>\n",
       "      <td>9.570222e+10</td>\n",
       "      <td>7.881344e+10</td>\n",
       "    </tr>\n",
       "    <tr>\n",
       "      <th>2013</th>\n",
       "      <td>51262</td>\n",
       "      <td>0.024233</td>\n",
       "      <td>0.027982</td>\n",
       "      <td>-0.003749</td>\n",
       "      <td>-3.649438e+08</td>\n",
       "      <td>2.877959e+09</td>\n",
       "      <td>1.037059e+11</td>\n",
       "      <td>1.019960e+11</td>\n",
       "      <td>9.897313e+10</td>\n",
       "      <td>9.570222e+10</td>\n",
       "    </tr>\n",
       "    <tr>\n",
       "      <th>2014</th>\n",
       "      <td>51262</td>\n",
       "      <td>0.021955</td>\n",
       "      <td>0.026769</td>\n",
       "      <td>-0.004814</td>\n",
       "      <td>-4.924228e+08</td>\n",
       "      <td>2.884404e+09</td>\n",
       "      <td>1.117966e+11</td>\n",
       "      <td>1.037059e+11</td>\n",
       "      <td>1.055947e+11</td>\n",
       "      <td>9.897313e+10</td>\n",
       "    </tr>\n",
       "    <tr>\n",
       "      <th>2015</th>\n",
       "      <td>51262</td>\n",
       "      <td>0.024850</td>\n",
       "      <td>0.029675</td>\n",
       "      <td>-0.004825</td>\n",
       "      <td>-5.050949e+08</td>\n",
       "      <td>3.316785e+09</td>\n",
       "      <td>1.117473e+11</td>\n",
       "      <td>1.117966e+11</td>\n",
       "      <td>1.037683e+11</td>\n",
       "      <td>1.055947e+11</td>\n",
       "    </tr>\n",
       "    <tr>\n",
       "      <th>2016</th>\n",
       "      <td>51262</td>\n",
       "      <td>0.025774</td>\n",
       "      <td>0.030650</td>\n",
       "      <td>-0.004876</td>\n",
       "      <td>-4.632378e+08</td>\n",
       "      <td>3.170819e+09</td>\n",
       "      <td>9.515484e+10</td>\n",
       "      <td>1.117473e+11</td>\n",
       "      <td>8.621967e+10</td>\n",
       "      <td>1.037683e+11</td>\n",
       "    </tr>\n",
       "    <tr>\n",
       "      <th>2017</th>\n",
       "      <td>51262</td>\n",
       "      <td>0.030714</td>\n",
       "      <td>0.034948</td>\n",
       "      <td>-0.004234</td>\n",
       "      <td>-3.353583e+08</td>\n",
       "      <td>3.074965e+09</td>\n",
       "      <td>8.081731e+10</td>\n",
       "      <td>9.515484e+10</td>\n",
       "      <td>7.217897e+10</td>\n",
       "      <td>8.621967e+10</td>\n",
       "    </tr>\n",
       "    <tr>\n",
       "      <th>2018</th>\n",
       "      <td>51262</td>\n",
       "      <td>0.030699</td>\n",
       "      <td>0.036381</td>\n",
       "      <td>-0.005681</td>\n",
       "      <td>-4.318972e+08</td>\n",
       "      <td>3.091119e+09</td>\n",
       "      <td>8.911482e+10</td>\n",
       "      <td>8.081731e+10</td>\n",
       "      <td>7.986152e+10</td>\n",
       "      <td>7.217897e+10</td>\n",
       "    </tr>\n",
       "    <tr>\n",
       "      <th>2019</th>\n",
       "      <td>51262</td>\n",
       "      <td>0.019547</td>\n",
       "      <td>0.027408</td>\n",
       "      <td>-0.007861</td>\n",
       "      <td>-6.114421e+08</td>\n",
       "      <td>2.387538e+09</td>\n",
       "      <td>8.510496e+10</td>\n",
       "      <td>8.911482e+10</td>\n",
       "      <td>7.570442e+10</td>\n",
       "      <td>7.986152e+10</td>\n",
       "    </tr>\n",
       "  </tbody>\n",
       "</table>\n",
       "</div>"
      ],
      "text/plain": [
       "variavel     id  spread_banc    taxApl   taxCapt  IF.DATA_DCap  IF.DATA_RdOC  \\\n",
       "2000      51262          NaN       NaN       NaN -1.729596e+08  1.979055e+08   \n",
       "2001      51262     0.037914  0.061882 -0.023968 -2.593314e+08  3.723846e+08   \n",
       "2002      51262     0.043974  0.055916 -0.011943 -1.396134e+08  4.803954e+08   \n",
       "2003      51262     0.057963  0.058555 -0.000592 -6.626285e+06  5.988841e+08   \n",
       "2004      51262     0.055322  0.059124 -0.003801 -4.959922e+07  8.367596e+08   \n",
       "2005      51262     0.042993  0.054907 -0.011914 -2.227037e+08  1.136769e+09   \n",
       "2006      51262     0.025355  0.034018 -0.008663 -2.119387e+08  8.579590e+08   \n",
       "2007      51262     0.021112  0.034143 -0.013031 -3.679246e+08  8.678642e+08   \n",
       "2008      51262     0.020690  0.033321 -0.012631 -4.490806e+08  9.434243e+08   \n",
       "2009      51262     0.022881  0.032680 -0.009798 -4.650663e+08  1.270935e+09   \n",
       "2010      51262     0.028429  0.031133 -0.002705 -1.590494e+08  1.715528e+09   \n",
       "2011      51262     0.029245  0.031680 -0.002436 -1.737159e+08  2.382554e+09   \n",
       "2012      51262     0.029559  0.034789 -0.005231 -4.564076e+08  3.269759e+09   \n",
       "2013      51262     0.024233  0.027982 -0.003749 -3.649438e+08  2.877959e+09   \n",
       "2014      51262     0.021955  0.026769 -0.004814 -4.924228e+08  2.884404e+09   \n",
       "2015      51262     0.024850  0.029675 -0.004825 -5.050949e+08  3.316785e+09   \n",
       "2016      51262     0.025774  0.030650 -0.004876 -4.632378e+08  3.170819e+09   \n",
       "2017      51262     0.030714  0.034948 -0.004234 -3.353583e+08  3.074965e+09   \n",
       "2018      51262     0.030699  0.036381 -0.005681 -4.318972e+08  3.091119e+09   \n",
       "2019      51262     0.019547  0.027408 -0.007861 -6.114421e+08  2.387538e+09   \n",
       "\n",
       "variavel   IF.DATA_OpC     OpC_off_1  IF.DATA_Capt    Capt_off_1  \n",
       "2000      4.187463e+09           NaN  9.511334e+09           NaN  \n",
       "2001      7.847867e+09  4.187463e+09  1.212885e+10  9.511334e+09  \n",
       "2002      9.334737e+09  7.847867e+09  1.125141e+10  1.212885e+10  \n",
       "2003      1.112065e+10  9.334737e+09  1.113968e+10  1.125141e+10  \n",
       "2004      1.718480e+10  1.112065e+10  1.495506e+10  1.113968e+10  \n",
       "2005      2.422232e+10  1.718480e+10  2.242882e+10  1.495506e+10  \n",
       "2006      2.621867e+10  2.422232e+10  2.649987e+10  2.242882e+10  \n",
       "2007      2.461855e+10  2.621867e+10  2.996818e+10  2.649987e+10  \n",
       "2008      3.200785e+10  2.461855e+10  4.113941e+10  2.996818e+10  \n",
       "2009      4.577303e+10  3.200785e+10  5.378779e+10  4.113941e+10  \n",
       "2010      6.443250e+10  4.577303e+10  6.382747e+10  5.378779e+10  \n",
       "2011      8.597895e+10  6.443250e+10  7.881344e+10  6.382747e+10  \n",
       "2012      1.019960e+11  8.597895e+10  9.570222e+10  7.881344e+10  \n",
       "2013      1.037059e+11  1.019960e+11  9.897313e+10  9.570222e+10  \n",
       "2014      1.117966e+11  1.037059e+11  1.055947e+11  9.897313e+10  \n",
       "2015      1.117473e+11  1.117966e+11  1.037683e+11  1.055947e+11  \n",
       "2016      9.515484e+10  1.117473e+11  8.621967e+10  1.037683e+11  \n",
       "2017      8.081731e+10  9.515484e+10  7.217897e+10  8.621967e+10  \n",
       "2018      8.911482e+10  8.081731e+10  7.986152e+10  7.217897e+10  \n",
       "2019      8.510496e+10  8.911482e+10  7.570442e+10  7.986152e+10  "
      ]
     },
     "execution_count": 22,
     "metadata": {},
     "output_type": "execute_result"
    }
   ],
   "source": [
    "completo[completo['id']== ids[0]]"
   ]
  },
  {
   "cell_type": "code",
   "execution_count": 23,
   "metadata": {},
   "outputs": [
    {
     "data": {
      "text/plain": [
       "<matplotlib.axes._subplots.AxesSubplot at 0x199608822e8>"
      ]
     },
     "execution_count": 23,
     "metadata": {},
     "output_type": "execute_result"
    },
    {
     "data": {
      "image/png": "[encoded data removed]",
      "text/plain": [
       "<Figure size 432x288 with 1 Axes>"
      ]
     },
     "metadata": {
      "needs_background": "light"
     },
     "output_type": "display_data"
    }
   ],
   "source": [
    "sns.lineplot(completo.index.unique(), completo.id.groupby(completo.index).count())"
   ]
  },
  {
   "cell_type": "code",
   "execution_count": 37,
   "metadata": {
    "scrolled": true
   },
   "outputs": [
    {
     "name": "stdout",
     "output_type": "stream",
     "text": [
      "<class 'pandas.core.frame.DataFrame'>\n",
      "Int64Index: 1028 entries, 2000 to 2019\n",
      "Data columns (total 10 columns):\n",
      "id              1028 non-null object\n",
      "spread_banc     701 non-null float64\n",
      "taxApl          776 non-null float64\n",
      "taxCapt         810 non-null float64\n",
      "IF.DATA_DCap    1028 non-null float64\n",
      "IF.DATA_RdOC    1028 non-null float64\n",
      "IF.DATA_OpC     1028 non-null float64\n",
      "OpC_off_1       963 non-null float64\n",
      "IF.DATA_Capt    1028 non-null float64\n",
      "Capt_off_1      963 non-null float64\n",
      "dtypes: float64(9), object(1)\n",
      "memory usage: 128.3+ KB\n"
     ]
    }
   ],
   "source": [
    "completo.info()"
   ]
  },
  {
   "cell_type": "code",
   "execution_count": 38,
   "metadata": {
    "scrolled": false
   },
   "outputs": [
    {
     "data": {
      "text/plain": [
       "<matplotlib.axes._subplots.AxesSubplot at 0x1996191ae48>"
      ]
     },
     "execution_count": 38,
     "metadata": {},
     "output_type": "execute_result"
    },
    {
     "data": {
      "image/png": "[encoded data removed]",
      "text/plain": [
       "<Figure size 1152x432 with 1 Axes>"
      ]
     },
     "metadata": {},
     "output_type": "display_data"
    }
   ],
   "source": [
    "fig = plt.gcf()\n",
    "fig.set_size_inches(16, 6)\n",
    "sns.set_style(\"whitegrid\")\n",
    "sns.boxplot(completo.index,completo.spread_banc)"
   ]
  },
  {
   "cell_type": "code",
   "execution_count": 43,
   "metadata": {},
   "outputs": [],
   "source": [
    "filtrado = completo[(completo.spread_banc.notna()) & \n",
    "                      (completo.spread_banc != np.inf) &\n",
    "                     (completo.spread_banc != -np.inf)\n",
    "                    & (completo.spread_banc < .2)]"
   ]
  },
  {
   "cell_type": "code",
   "execution_count": 46,
   "metadata": {},
   "outputs": [
    {
     "name": "stdout",
     "output_type": "stream",
     "text": [
      "<class 'pandas.core.frame.DataFrame'>\n",
      "Int64Index: 578 entries, 2001 to 2019\n",
      "Data columns (total 10 columns):\n",
      "id              578 non-null object\n",
      "spread_banc     578 non-null float64\n",
      "taxApl          578 non-null float64\n",
      "taxCapt         578 non-null float64\n",
      "IF.DATA_DCap    578 non-null float64\n",
      "IF.DATA_RdOC    578 non-null float64\n",
      "IF.DATA_OpC     578 non-null float64\n",
      "OpC_off_1       578 non-null float64\n",
      "IF.DATA_Capt    578 non-null float64\n",
      "Capt_off_1      578 non-null float64\n",
      "dtypes: float64(9), object(1)\n",
      "memory usage: 69.7+ KB\n"
     ]
    }
   ],
   "source": [
    "filtrado.info()"
   ]
  },
  {
   "cell_type": "code",
   "execution_count": 49,
   "metadata": {},
   "outputs": [
    {
     "data": {
      "text/plain": [
       "<matplotlib.axes._subplots.AxesSubplot at 0x19961a64320>"
      ]
     },
     "execution_count": 49,
     "metadata": {},
     "output_type": "execute_result"
    },
    {
     "data": {
      "image/png": "[encoded data removed]",
      "text/plain": [
       "<Figure size 1152x432 with 1 Axes>"
      ]
     },
     "metadata": {},
     "output_type": "display_data"
    }
   ],
   "source": [
    "fig = plt.gcf()\n",
    "fig.set_size_inches(16, 6)\n",
    "sns.set_style(\"whitegrid\")\n",
    "sns.distplot(filtrado.spread_banc)"
   ]
  },
  {
   "cell_type": "code",
   "execution_count": 47,
   "metadata": {},
   "outputs": [
    {
     "data": {
      "text/plain": [
       "<matplotlib.axes._subplots.AxesSubplot at 0x19962363208>"
      ]
     },
     "execution_count": 47,
     "metadata": {},
     "output_type": "execute_result"
    },
    {
     "data": {
      "image/png": "[encoded data removed]",
      "text/plain": [
       "<Figure size 1152x432 with 1 Axes>"
      ]
     },
     "metadata": {},
     "output_type": "display_data"
    }
   ],
   "source": [
    "fig = plt.gcf()\n",
    "fig.set_size_inches(16, 6)\n",
    "sns.set_style(\"whitegrid\")\n",
    "sns.boxplot(filtrado.index, filtrado.spread_banc)"
   ]
  },
  {
   "cell_type": "code",
   "execution_count": 56,
   "metadata": {},
   "outputs": [
    {
     "data": {
      "text/plain": [
       "<matplotlib.axes._subplots.AxesSubplot at 0x1996526f5f8>"
      ]
     },
     "execution_count": 56,
     "metadata": {},
     "output_type": "execute_result"
    },
    {
     "data": {
      "image/png": "[encoded data removed]",
      "text/plain": [
       "<Figure size 1152x432 with 1 Axes>"
      ]
     },
     "metadata": {},
     "output_type": "display_data"
    }
   ],
   "source": [
    "fig = plt.gcf()\n",
    "fig.set_size_inches(16, 6)\n",
    "sns.set_style(\"whitegrid\")\n",
    "filtrado_mean=filtrado.spread_banc.groupby(filtrado.index).mean()\n",
    "sns.lineplot(filtrado_mean.index.map(str), filtrado_mean)"
   ]
  },
  {
   "cell_type": "code",
   "execution_count": null,
   "metadata": {},
   "outputs": [],
   "source": [
    "sns.lineplot(filtrado.index.map(str), filtrado)"
   ]
  }
 ],
 "metadata": {
  "kernelspec": {
   "display_name": "Python 3",
   "language": "python",
   "name": "python3"
  },
  "language_info": {
   "codemirror_mode": {
    "name": "ipython",
    "version": 3
   },
   "file_extension": ".py",
   "mimetype": "text/x-python",
   "name": "python",
   "nbconvert_exporter": "python",
   "pygments_lexer": "ipython3",
   "version": "3.7.3"
  }
 },
 "nbformat": 4,
 "nbformat_minor": 2
}
