{
 "cells": [
  {
   "cell_type": "code",
   "execution_count": 1,
   "metadata": {},
   "outputs": [],
   "source": [
    "import numpy as np\n",
    "import pandas as pd\n",
    "import matplotlib.pyplot as plt\n",
    "import seaborn as sns\n",
    "from IPython.display import Image\n",
    "from matplotlib.pyplot import figure\n",
    "sns.set()"
   ]
  },
  {
   "cell_type": "code",
   "execution_count": 2,
   "metadata": {},
   "outputs": [],
   "source": [
    "df= pd.read_csv(\"coop_top_100_ 201908.csv\", encoding=\"latin1\", sep=\";\")"
   ]
  },
  {
   "cell_type": "code",
   "execution_count": 3,
   "metadata": {},
   "outputs": [],
   "source": [
    "#transformar data em index de data\n",
    "df['data'] = pd.to_datetime(df['data'], format=\"%Y%m\")\n",
    "#df.set_index(\"data\",inplace=True, drop=True)"
   ]
  },
  {
   "cell_type": "code",
   "execution_count": 4,
   "metadata": {},
   "outputs": [],
   "source": [
    "#Arrumar valores separados por virgula\n",
    "df['valor']= df['valor'].str.replace(\",\", \".\")\n",
    "df['valor'] = pd.to_numeric(df['valor'])"
   ]
  },
  {
   "cell_type": "code",
   "execution_count": 5,
   "metadata": {},
   "outputs": [
    {
     "name": "stdout",
     "output_type": "stream",
     "text": [
      "<class 'pandas.core.frame.DataFrame'>\n",
      "RangeIndex: 130368 entries, 0 to 130367\n",
      "Data columns (total 5 columns):\n",
      "data        130368 non-null datetime64[ns]\n",
      "id_coop     130368 non-null int64\n",
      "nome        130368 non-null object\n",
      "variavel    130368 non-null object\n",
      "valor       130368 non-null float64\n",
      "dtypes: datetime64[ns](1), float64(1), int64(1), object(2)\n",
      "memory usage: 5.0+ MB\n"
     ]
    }
   ],
   "source": [
    "df.info()"
   ]
  },
  {
   "cell_type": "code",
   "execution_count": 6,
   "metadata": {},
   "outputs": [
    {
     "data": {
      "text/html": [
       "<div>\n",
       "<style scoped>\n",
       "    .dataframe tbody tr th:only-of-type {\n",
       "        vertical-align: middle;\n",
       "    }\n",
       "\n",
       "    .dataframe tbody tr th {\n",
       "        vertical-align: top;\n",
       "    }\n",
       "\n",
       "    .dataframe thead th {\n",
       "        text-align: right;\n",
       "    }\n",
       "</style>\n",
       "<table border=\"1\" class=\"dataframe\">\n",
       "  <thead>\n",
       "    <tr style=\"text-align: right;\">\n",
       "      <th></th>\n",
       "      <th>data</th>\n",
       "      <th>id_coop</th>\n",
       "      <th>nome</th>\n",
       "      <th>variavel</th>\n",
       "      <th>valor</th>\n",
       "    </tr>\n",
       "  </thead>\n",
       "  <tbody>\n",
       "    <tr>\n",
       "      <th>0</th>\n",
       "      <td>2000-01-01</td>\n",
       "      <td>75847</td>\n",
       "      <td>CECM MEDICOS E DEMAIS PROFISSIONAIS DA SAUDE D...</td>\n",
       "      <td>IF.DATA_Capt</td>\n",
       "      <td>4730352.04</td>\n",
       "    </tr>\n",
       "    <tr>\n",
       "      <th>1</th>\n",
       "      <td>2000-01-01</td>\n",
       "      <td>75847</td>\n",
       "      <td>CECM MEDICOS E DEMAIS PROFISSIONAIS DA SAUDE D...</td>\n",
       "      <td>IF.DATA_DCap</td>\n",
       "      <td>-55544.11</td>\n",
       "    </tr>\n",
       "    <tr>\n",
       "      <th>2</th>\n",
       "      <td>2000-01-01</td>\n",
       "      <td>75847</td>\n",
       "      <td>CECM MEDICOS E DEMAIS PROFISSIONAIS DA SAUDE D...</td>\n",
       "      <td>IF.DATA_JCP</td>\n",
       "      <td>0.00</td>\n",
       "    </tr>\n",
       "    <tr>\n",
       "      <th>3</th>\n",
       "      <td>2000-01-01</td>\n",
       "      <td>75847</td>\n",
       "      <td>CECM MEDICOS E DEMAIS PROFISSIONAIS DA SAUDE D...</td>\n",
       "      <td>IF.DATA_OpC</td>\n",
       "      <td>2309629.76</td>\n",
       "    </tr>\n",
       "    <tr>\n",
       "      <th>4</th>\n",
       "      <td>2000-01-01</td>\n",
       "      <td>75847</td>\n",
       "      <td>CECM MEDICOS E DEMAIS PROFISSIONAIS DA SAUDE D...</td>\n",
       "      <td>IF.DATA_PartLuc</td>\n",
       "      <td>0.00</td>\n",
       "    </tr>\n",
       "    <tr>\n",
       "      <th>5</th>\n",
       "      <td>2000-01-01</td>\n",
       "      <td>75847</td>\n",
       "      <td>CECM MEDICOS E DEMAIS PROFISSIONAIS DA SAUDE D...</td>\n",
       "      <td>IF.DATA_RdOC</td>\n",
       "      <td>71020.47</td>\n",
       "    </tr>\n",
       "    <tr>\n",
       "      <th>6</th>\n",
       "      <td>2000-01-01</td>\n",
       "      <td>815319</td>\n",
       "      <td>CCR DE VENDA NOVA DO IMIGRANTE - SICOOB VENDA ...</td>\n",
       "      <td>IF.DATA_Capt</td>\n",
       "      <td>12706802.94</td>\n",
       "    </tr>\n",
       "    <tr>\n",
       "      <th>7</th>\n",
       "      <td>2000-01-01</td>\n",
       "      <td>815319</td>\n",
       "      <td>CCR DE VENDA NOVA DO IMIGRANTE - SICOOB VENDA ...</td>\n",
       "      <td>IF.DATA_DCap</td>\n",
       "      <td>-160654.29</td>\n",
       "    </tr>\n",
       "    <tr>\n",
       "      <th>8</th>\n",
       "      <td>2000-01-01</td>\n",
       "      <td>815319</td>\n",
       "      <td>CCR DE VENDA NOVA DO IMIGRANTE - SICOOB VENDA ...</td>\n",
       "      <td>IF.DATA_JCP</td>\n",
       "      <td>0.00</td>\n",
       "    </tr>\n",
       "    <tr>\n",
       "      <th>9</th>\n",
       "      <td>2000-01-01</td>\n",
       "      <td>815319</td>\n",
       "      <td>CCR DE VENDA NOVA DO IMIGRANTE - SICOOB VENDA ...</td>\n",
       "      <td>IF.DATA_OpC</td>\n",
       "      <td>8912457.09</td>\n",
       "    </tr>\n",
       "    <tr>\n",
       "      <th>10</th>\n",
       "      <td>2000-01-01</td>\n",
       "      <td>815319</td>\n",
       "      <td>CCR DE VENDA NOVA DO IMIGRANTE - SICOOB VENDA ...</td>\n",
       "      <td>IF.DATA_PartLuc</td>\n",
       "      <td>0.00</td>\n",
       "    </tr>\n",
       "    <tr>\n",
       "      <th>11</th>\n",
       "      <td>2000-01-01</td>\n",
       "      <td>815319</td>\n",
       "      <td>CCR DE VENDA NOVA DO IMIGRANTE - SICOOB VENDA ...</td>\n",
       "      <td>IF.DATA_RdOC</td>\n",
       "      <td>232494.23</td>\n",
       "    </tr>\n",
       "    <tr>\n",
       "      <th>12</th>\n",
       "      <td>2000-01-01</td>\n",
       "      <td>1039011</td>\n",
       "      <td>CECM DOS MEDICOS DE CHAPECO LTDA</td>\n",
       "      <td>IF.DATA_Capt</td>\n",
       "      <td>1895643.38</td>\n",
       "    </tr>\n",
       "  </tbody>\n",
       "</table>\n",
       "</div>"
      ],
      "text/plain": [
       "         data  id_coop                                               nome  \\\n",
       "0  2000-01-01    75847  CECM MEDICOS E DEMAIS PROFISSIONAIS DA SAUDE D...   \n",
       "1  2000-01-01    75847  CECM MEDICOS E DEMAIS PROFISSIONAIS DA SAUDE D...   \n",
       "2  2000-01-01    75847  CECM MEDICOS E DEMAIS PROFISSIONAIS DA SAUDE D...   \n",
       "3  2000-01-01    75847  CECM MEDICOS E DEMAIS PROFISSIONAIS DA SAUDE D...   \n",
       "4  2000-01-01    75847  CECM MEDICOS E DEMAIS PROFISSIONAIS DA SAUDE D...   \n",
       "5  2000-01-01    75847  CECM MEDICOS E DEMAIS PROFISSIONAIS DA SAUDE D...   \n",
       "6  2000-01-01   815319  CCR DE VENDA NOVA DO IMIGRANTE - SICOOB VENDA ...   \n",
       "7  2000-01-01   815319  CCR DE VENDA NOVA DO IMIGRANTE - SICOOB VENDA ...   \n",
       "8  2000-01-01   815319  CCR DE VENDA NOVA DO IMIGRANTE - SICOOB VENDA ...   \n",
       "9  2000-01-01   815319  CCR DE VENDA NOVA DO IMIGRANTE - SICOOB VENDA ...   \n",
       "10 2000-01-01   815319  CCR DE VENDA NOVA DO IMIGRANTE - SICOOB VENDA ...   \n",
       "11 2000-01-01   815319  CCR DE VENDA NOVA DO IMIGRANTE - SICOOB VENDA ...   \n",
       "12 2000-01-01  1039011                   CECM DOS MEDICOS DE CHAPECO LTDA   \n",
       "\n",
       "           variavel        valor  \n",
       "0      IF.DATA_Capt   4730352.04  \n",
       "1      IF.DATA_DCap    -55544.11  \n",
       "2       IF.DATA_JCP         0.00  \n",
       "3       IF.DATA_OpC   2309629.76  \n",
       "4   IF.DATA_PartLuc         0.00  \n",
       "5      IF.DATA_RdOC     71020.47  \n",
       "6      IF.DATA_Capt  12706802.94  \n",
       "7      IF.DATA_DCap   -160654.29  \n",
       "8       IF.DATA_JCP         0.00  \n",
       "9       IF.DATA_OpC   8912457.09  \n",
       "10  IF.DATA_PartLuc         0.00  \n",
       "11     IF.DATA_RdOC    232494.23  \n",
       "12     IF.DATA_Capt   1895643.38  "
      ]
     },
     "execution_count": 6,
     "metadata": {},
     "output_type": "execute_result"
    }
   ],
   "source": [
    "df.head(13)"
   ]
  },
  {
   "cell_type": "markdown",
   "metadata": {},
   "source": [
    "<h1 style=\"color: red\">Quantidade Nomes Diferentes:</h1>"
   ]
  },
  {
   "cell_type": "code",
   "execution_count": 7,
   "metadata": {},
   "outputs": [
    {
     "data": {
      "text/plain": [
       "556"
      ]
     },
     "execution_count": 7,
     "metadata": {},
     "output_type": "execute_result"
    }
   ],
   "source": [
    "nomes = df['nome'].drop_duplicates().reset_index(drop=True)\n",
    "nomes.count()\n",
    "#nomes[1]"
   ]
  },
  {
   "cell_type": "markdown",
   "metadata": {},
   "source": [
    "## Últimos Nomes"
   ]
  },
  {
   "cell_type": "code",
   "execution_count": 8,
   "metadata": {},
   "outputs": [
    {
     "data": {
      "text/plain": [
       "id_coop    111\n",
       "nome       111\n",
       "dtype: int64"
      ]
     },
     "execution_count": 8,
     "metadata": {},
     "output_type": "execute_result"
    }
   ],
   "source": [
    "#df[['id_coop','nome']].drop_duplicates().reset_index(drop=True)\n",
    "ultimos_nomes = df[df['data'].dt.year == 2019][['id_coop','nome']]\n",
    "ultimos_nomes.drop_duplicates().count()"
   ]
  },
  {
   "cell_type": "markdown",
   "metadata": {},
   "source": [
    "<h1 style=\"color: red\">Quantidade de Identificadores das IFs</h1>"
   ]
  },
  {
   "cell_type": "code",
   "execution_count": 9,
   "metadata": {},
   "outputs": [
    {
     "data": {
      "text/plain": [
       "100"
      ]
     },
     "execution_count": 9,
     "metadata": {},
     "output_type": "execute_result"
    }
   ],
   "source": [
    "ids= df['id_coop'].drop_duplicates().reset_index(drop=True)\n",
    "ids.count()"
   ]
  },
  {
   "cell_type": "code",
   "execution_count": 10,
   "metadata": {},
   "outputs": [
    {
     "data": {
      "text/plain": [
       "1039011"
      ]
     },
     "execution_count": 10,
     "metadata": {},
     "output_type": "execute_result"
    }
   ],
   "source": [
    "par_nome_id_coop = df[['nome','id_coop']].drop_duplicates()\n",
    "par_nome_id_coop[par_nome_id_coop['nome']== 'CECM DOS MEDICOS DE CHAPECO LTDA']\n",
    "def get_id_coop(nome):\n",
    "    id = par_nome_id_coop[par_nome_id_coop['nome']== nome]['id_coop']\n",
    "    return id.values[0]\n",
    "get_id_coop('CECM DOS MEDICOS DE CHAPECO LTDA')"
   ]
  },
  {
   "cell_type": "markdown",
   "metadata": {},
   "source": [
    "<h1 style=\"color: red\">Nossa conta vai levar em consideração a IF pelo nome (556) ou pelo identificador (100)\n",
    "que eu imagino que seja o grupo?</h1>"
   ]
  },
  {
   "cell_type": "markdown",
   "metadata": {},
   "source": [
    "<h1 style=\"color: red\">Olha a quantidade de nomes diferentes por identificador:</h1>"
   ]
  },
  {
   "cell_type": "code",
   "execution_count": 11,
   "metadata": {},
   "outputs": [
    {
     "data": {
      "text/plain": [
       "[[]]"
      ]
     },
     "execution_count": 11,
     "metadata": {},
     "output_type": "execute_result"
    },
    {
     "data": {
      "image/png": "[encoded data removed]",
      "text/plain": [
       "<Figure size 1152x432 with 1 Axes>"
      ]
     },
     "metadata": {
      "needs_background": "light"
     },
     "output_type": "display_data"
    }
   ],
   "source": [
    "unique_names = df[['id_coop','nome']].drop_duplicates()\n",
    "unique_names.sort_values(by=['id_coop'], inplace=True)\n",
    "unique_names\n",
    "#10 6 9 3\n",
    "figure(figsize=(16, 6))\n",
    "x = unique_names.groupby('id_coop').count().index\n",
    "y = unique_names.groupby('id_coop').count().values.reshape(-1,)\n",
    "g0=sns.barplot(x, y)\n",
    "plt.axhline(y.mean(), color='k', linestyle='dashed', linewidth=2)\n",
    "g0.set(xticklabels=[])"
   ]
  },
  {
   "cell_type": "markdown",
   "metadata": {},
   "source": [
    "# Variáveis"
   ]
  },
  {
   "cell_type": "code",
   "execution_count": 12,
   "metadata": {
    "scrolled": false
   },
   "outputs": [
    {
     "data": {
      "text/plain": [
       "0       IF.DATA_Capt\n",
       "1       IF.DATA_DCap\n",
       "2        IF.DATA_JCP\n",
       "3        IF.DATA_OpC\n",
       "4    IF.DATA_PartLuc\n",
       "5       IF.DATA_RdOC\n",
       "Name: variavel, dtype: object"
      ]
     },
     "execution_count": 12,
     "metadata": {},
     "output_type": "execute_result"
    }
   ],
   "source": [
    "df['variavel'].drop_duplicates()"
   ]
  },
  {
   "cell_type": "markdown",
   "metadata": {},
   "source": [
    "<ul>\n",
    "    <li>RdOC: Receitas com operações de crédito</li>\n",
    "    <li>OpC: Operações de crédito</li>\n",
    "    <li>Capt: Captações</li>\n",
    "    <li>Dcap: Despesas de captação de crédito</li>\n",
    "    <li>JCP: juro sobre capital próprio</li>\n",
    "    <li>PartLuc: sobra líquida</li>\n",
    "    <li style=\"color:red\">OpCmed: média entre o mês no ano e o mesmo mês do ano anterior</li>\n",
    "</ul>"
   ]
  },
  {
   "cell_type": "markdown",
   "metadata": {},
   "source": [
    "<h1 style=\"color: red\">Está correto dizer que a fórmula é a seguinte?</h1>"
   ]
  },
  {
   "cell_type": "markdown",
   "metadata": {},
   "source": [
    "<h2 style=\"color:green\">\n",
    "$spread_{coop}=\\left(\\frac{RdOC_{t}}{\\frac{OpC_{t}+OpC_{t-12}}{2}}\\right)-\n",
    "\\left(\\frac{DCap_{t}}{\\frac{Capt_{t}+Capt_{t-12}}{2}}\\right) - \n",
    "\\left(\\frac{PartLuc_{t} + JCP_{t}} \n",
    "{\\frac {\\left(\\frac{OpC_{t} + OpC_{t - 12}}{2}\\right)-\\left(\\frac{Capt_{t} + Capt_{t-12}}{2}\\right)}{2}}\\right)$\n",
    "</h2>"
   ]
  },
  {
   "cell_type": "markdown",
   "metadata": {},
   "source": [
    "<h1 style=\"color: red\">Na imagem que tu tinhas mandado esse termo:\n",
    "    $\\left(\n",
    "        \\frac\n",
    "            {SobraLiq_{i} + JCP_{t}}\n",
    "            {\n",
    "                \\frac\n",
    "                    {OpC_{med} - Capt_{med}}\n",
    "                    {2}\n",
    "            }\n",
    "    \\right)$<br>\n",
    "    tem um 'i' que não deu pra entender o que é.\n",
    "</h1>"
   ]
  },
  {
   "cell_type": "code",
   "execution_count": 13,
   "metadata": {},
   "outputs": [
    {
     "data": {
      "image/png": "[encoded data removed]",
      "text/plain": [
       "<IPython.core.display.Image object>"
      ]
     },
     "execution_count": 13,
     "metadata": {},
     "output_type": "execute_result"
    }
   ],
   "source": [
    "Image(filename='formula.png')"
   ]
  },
  {
   "cell_type": "markdown",
   "metadata": {},
   "source": [
    "<h1 style=\"color: red\">Pelo que eu entendi do teu comentário o termo $OpC_{med}$ e $Capt_{med}$ seriam:</h1>"
   ]
  },
  {
   "cell_type": "markdown",
   "metadata": {},
   "source": [
    "<h1 style=\"color: green\">$OpC_{med} = \\frac{OpC_{t} + OpC_{t - 12}}{2}$<h1>"
   ]
  },
  {
   "cell_type": "markdown",
   "metadata": {},
   "source": [
    "<h1 style=\"color: green\">$Capt_{med}= \\frac{Capt_{t} + Capt_{t-12}}{2}$</h1>"
   ]
  },
  {
   "cell_type": "markdown",
   "metadata": {},
   "source": [
    "<h1 style=\"color: red\">Já que se tratam de médias entre meses com um ano de diferença.</h1>"
   ]
  },
  {
   "cell_type": "code",
   "execution_count": 14,
   "metadata": {},
   "outputs": [
    {
     "data": {
      "text/plain": [
       "75847"
      ]
     },
     "execution_count": 14,
     "metadata": {},
     "output_type": "execute_result"
    }
   ],
   "source": [
    "ids[0]"
   ]
  },
  {
   "cell_type": "code",
   "execution_count": 15,
   "metadata": {},
   "outputs": [
    {
     "data": {
      "text/html": [
       "<div>\n",
       "<style scoped>\n",
       "    .dataframe tbody tr th:only-of-type {\n",
       "        vertical-align: middle;\n",
       "    }\n",
       "\n",
       "    .dataframe tbody tr th {\n",
       "        vertical-align: top;\n",
       "    }\n",
       "\n",
       "    .dataframe thead th {\n",
       "        text-align: right;\n",
       "    }\n",
       "</style>\n",
       "<table border=\"1\" class=\"dataframe\">\n",
       "  <thead>\n",
       "    <tr style=\"text-align: right;\">\n",
       "      <th></th>\n",
       "      <th>nome</th>\n",
       "      <th>id_coop</th>\n",
       "    </tr>\n",
       "  </thead>\n",
       "  <tbody>\n",
       "    <tr>\n",
       "      <th>0</th>\n",
       "      <td>CECM MEDICOS E DEMAIS PROFISSIONAIS DA SAUDE D...</td>\n",
       "      <td>75847</td>\n",
       "    </tr>\n",
       "    <tr>\n",
       "      <th>29130</th>\n",
       "      <td>COOPERATIVA DE ECONOMIA E CREDITO MUTUO DOS ME...</td>\n",
       "      <td>75847</td>\n",
       "    </tr>\n",
       "    <tr>\n",
       "      <th>31482</th>\n",
       "      <td>COOPERATIVA DE CRÃDITO DOS MÃDICOS E DEMAIS ...</td>\n",
       "      <td>75847</td>\n",
       "    </tr>\n",
       "    <tr>\n",
       "      <th>48534</th>\n",
       "      <td>COOPERATIVA DE CRÃDITO DOS MÃDICOS E DEMAIS ...</td>\n",
       "      <td>75847</td>\n",
       "    </tr>\n",
       "    <tr>\n",
       "      <th>50886</th>\n",
       "      <td>COOPERATIVA DE CRÃDITO DOS MÃDICOS E DEMAIS ...</td>\n",
       "      <td>75847</td>\n",
       "    </tr>\n",
       "    <tr>\n",
       "      <th>66690</th>\n",
       "      <td>COOPERATIVA DE CRÃDITO DOS MÃDICOS, PROFISSI...</td>\n",
       "      <td>75847</td>\n",
       "    </tr>\n",
       "    <tr>\n",
       "      <th>76446</th>\n",
       "      <td>COOPERATIVA DE CRÃDITO DOS MÃDICOS, PROFISSI...</td>\n",
       "      <td>75847</td>\n",
       "    </tr>\n",
       "    <tr>\n",
       "      <th>88026</th>\n",
       "      <td>COOPERATIVA DE CRÃDITO DOS MÃDICOS, PROFISSI...</td>\n",
       "      <td>75847</td>\n",
       "    </tr>\n",
       "    <tr>\n",
       "      <th>106368</th>\n",
       "      <td>COOPERATIVA DE CRÃDITO UNICRED SUL CATARINENS...</td>\n",
       "      <td>75847</td>\n",
       "    </tr>\n",
       "    <tr>\n",
       "      <th>110568</th>\n",
       "      <td>COOPERATIVA DE CRÃDITO UNICRED SUL CATARINENS...</td>\n",
       "      <td>75847</td>\n",
       "    </tr>\n",
       "  </tbody>\n",
       "</table>\n",
       "</div>"
      ],
      "text/plain": [
       "                                                     nome  id_coop\n",
       "0       CECM MEDICOS E DEMAIS PROFISSIONAIS DA SAUDE D...    75847\n",
       "29130   COOPERATIVA DE ECONOMIA E CREDITO MUTUO DOS ME...    75847\n",
       "31482   COOPERATIVA DE CRÃDITO DOS MÃDICOS E DEMAIS ...    75847\n",
       "48534   COOPERATIVA DE CRÃDITO DOS MÃDICOS E DEMAIS ...    75847\n",
       "50886   COOPERATIVA DE CRÃDITO DOS MÃDICOS E DEMAIS ...    75847\n",
       "66690   COOPERATIVA DE CRÃDITO DOS MÃDICOS, PROFISSI...    75847\n",
       "76446   COOPERATIVA DE CRÃDITO DOS MÃDICOS, PROFISSI...    75847\n",
       "88026   COOPERATIVA DE CRÃDITO DOS MÃDICOS, PROFISSI...    75847\n",
       "106368  COOPERATIVA DE CRÃDITO UNICRED SUL CATARINENS...    75847\n",
       "110568  COOPERATIVA DE CRÃDITO UNICRED SUL CATARINENS...    75847"
      ]
     },
     "execution_count": 15,
     "metadata": {},
     "output_type": "execute_result"
    }
   ],
   "source": [
    "df[df['id_coop']==ids[0]][['nome','id_coop']].drop_duplicates()"
   ]
  },
  {
   "cell_type": "markdown",
   "metadata": {},
   "source": [
    "# Pivot"
   ]
  },
  {
   "cell_type": "code",
   "execution_count": null,
   "metadata": {},
   "outputs": [],
   "source": []
  },
  {
   "cell_type": "code",
   "execution_count": 16,
   "metadata": {
    "scrolled": false
   },
   "outputs": [
    {
     "data": {
      "text/html": [
       "<div>\n",
       "<style scoped>\n",
       "    .dataframe tbody tr th:only-of-type {\n",
       "        vertical-align: middle;\n",
       "    }\n",
       "\n",
       "    .dataframe tbody tr th {\n",
       "        vertical-align: top;\n",
       "    }\n",
       "\n",
       "    .dataframe thead th {\n",
       "        text-align: right;\n",
       "    }\n",
       "</style>\n",
       "<table border=\"1\" class=\"dataframe\">\n",
       "  <thead>\n",
       "    <tr style=\"text-align: right;\">\n",
       "      <th>variavel</th>\n",
       "      <th>IF.DATA_Capt</th>\n",
       "      <th>IF.DATA_DCap</th>\n",
       "      <th>IF.DATA_JCP</th>\n",
       "      <th>IF.DATA_OpC</th>\n",
       "      <th>IF.DATA_PartLuc</th>\n",
       "      <th>IF.DATA_RdOC</th>\n",
       "      <th>OpC_off_1</th>\n",
       "      <th>OpC_off_12</th>\n",
       "      <th>Capt_off_1</th>\n",
       "      <th>Capt_off_12</th>\n",
       "      <th>taxApl</th>\n",
       "    </tr>\n",
       "    <tr>\n",
       "      <th>data</th>\n",
       "      <th></th>\n",
       "      <th></th>\n",
       "      <th></th>\n",
       "      <th></th>\n",
       "      <th></th>\n",
       "      <th></th>\n",
       "      <th></th>\n",
       "      <th></th>\n",
       "      <th></th>\n",
       "      <th></th>\n",
       "      <th></th>\n",
       "    </tr>\n",
       "  </thead>\n",
       "  <tbody>\n",
       "    <tr>\n",
       "      <th>2000</th>\n",
       "      <td>7.166852e+07</td>\n",
       "      <td>-2573783.33</td>\n",
       "      <td>0.0</td>\n",
       "      <td>31039919.20</td>\n",
       "      <td>0.0</td>\n",
       "      <td>2986240.86</td>\n",
       "      <td>27865897.49</td>\n",
       "      <td>0.00</td>\n",
       "      <td>6.463906e+07</td>\n",
       "      <td>0.000000e+00</td>\n",
       "      <td>1.125104</td>\n",
       "    </tr>\n",
       "    <tr>\n",
       "      <th>2001</th>\n",
       "      <td>1.008993e+08</td>\n",
       "      <td>-3426029.57</td>\n",
       "      <td>0.0</td>\n",
       "      <td>38298726.33</td>\n",
       "      <td>0.0</td>\n",
       "      <td>3798965.78</td>\n",
       "      <td>36963040.13</td>\n",
       "      <td>31039919.20</td>\n",
       "      <td>9.849194e+07</td>\n",
       "      <td>7.166852e+07</td>\n",
       "      <td>1.169069</td>\n",
       "    </tr>\n",
       "    <tr>\n",
       "      <th>2002</th>\n",
       "      <td>1.261760e+08</td>\n",
       "      <td>-4449393.78</td>\n",
       "      <td>0.0</td>\n",
       "      <td>61425770.14</td>\n",
       "      <td>0.0</td>\n",
       "      <td>5934521.35</td>\n",
       "      <td>59779181.20</td>\n",
       "      <td>38298726.33</td>\n",
       "      <td>1.237981e+08</td>\n",
       "      <td>1.008993e+08</td>\n",
       "      <td>1.158480</td>\n",
       "    </tr>\n",
       "    <tr>\n",
       "      <th>2003</th>\n",
       "      <td>1.530570e+08</td>\n",
       "      <td>-7819413.34</td>\n",
       "      <td>0.0</td>\n",
       "      <td>68901479.02</td>\n",
       "      <td>0.0</td>\n",
       "      <td>7643681.03</td>\n",
       "      <td>69221786.77</td>\n",
       "      <td>61425770.14</td>\n",
       "      <td>1.523019e+08</td>\n",
       "      <td>1.261760e+08</td>\n",
       "      <td>1.339232</td>\n",
       "    </tr>\n",
       "    <tr>\n",
       "      <th>2004</th>\n",
       "      <td>2.605801e+07</td>\n",
       "      <td>-373802.67</td>\n",
       "      <td>0.0</td>\n",
       "      <td>11755862.00</td>\n",
       "      <td>0.0</td>\n",
       "      <td>407722.81</td>\n",
       "      <td>11596616.99</td>\n",
       "      <td>12124397.68</td>\n",
       "      <td>2.564359e+07</td>\n",
       "      <td>2.454879e+07</td>\n",
       "      <td>0.069688</td>\n",
       "    </tr>\n",
       "  </tbody>\n",
       "</table>\n",
       "</div>"
      ],
      "text/plain": [
       "variavel  IF.DATA_Capt  IF.DATA_DCap  IF.DATA_JCP  IF.DATA_OpC  \\\n",
       "data                                                             \n",
       "2000      7.166852e+07   -2573783.33          0.0  31039919.20   \n",
       "2001      1.008993e+08   -3426029.57          0.0  38298726.33   \n",
       "2002      1.261760e+08   -4449393.78          0.0  61425770.14   \n",
       "2003      1.530570e+08   -7819413.34          0.0  68901479.02   \n",
       "2004      2.605801e+07    -373802.67          0.0  11755862.00   \n",
       "\n",
       "variavel  IF.DATA_PartLuc  IF.DATA_RdOC    OpC_off_1   OpC_off_12  \\\n",
       "data                                                                \n",
       "2000                  0.0    2986240.86  27865897.49         0.00   \n",
       "2001                  0.0    3798965.78  36963040.13  31039919.20   \n",
       "2002                  0.0    5934521.35  59779181.20  38298726.33   \n",
       "2003                  0.0    7643681.03  69221786.77  61425770.14   \n",
       "2004                  0.0     407722.81  11596616.99  12124397.68   \n",
       "\n",
       "variavel    Capt_off_1   Capt_off_12    taxApl  \n",
       "data                                            \n",
       "2000      6.463906e+07  0.000000e+00  1.125104  \n",
       "2001      9.849194e+07  7.166852e+07  1.169069  \n",
       "2002      1.237981e+08  1.008993e+08  1.158480  \n",
       "2003      1.523019e+08  1.261760e+08  1.339232  \n",
       "2004      2.564359e+07  2.454879e+07  0.069688  "
      ]
     },
     "execution_count": 16,
     "metadata": {},
     "output_type": "execute_result"
    }
   ],
   "source": [
    "pivot = df[df['nome']== nomes[0]].pivot(index='data', columns='variavel',values='valor')\n",
    "pivot['OpC_off_1'] = pivot['IF.DATA_OpC'].shift(1)\n",
    "pivot['OpC_off_12'] = pivot['IF.DATA_OpC'].shift(12)\n",
    "pivot['Capt_off_1'] = pivot['IF.DATA_Capt'].shift(1)\n",
    "pivot['Capt_off_12'] = pivot['IF.DATA_Capt'].shift(12)\n",
    "pivot['taxApl'] = pivot['IF.DATA_RdOC'] / ((pivot['IF.DATA_OpC'] + pivot['OpC_off_1'])/2)\n",
    "cols=['IF.DATA_DCap', 'IF.DATA_JCP','IF.DATA_PartLuc', 'IF.DATA_RdOC',\n",
    "     'IF.DATA_OpC','OpC_off_1', 'OpC_off_12',\n",
    "     'IF.DATA_Capt', 'Capt_off_1', 'Capt_off_12','taxApl']\n",
    "pivot[cols]\n",
    "pivot.groupby(pivot.index.year).sum()"
   ]
  },
  {
   "cell_type": "markdown",
   "metadata": {},
   "source": [
    "## Pivot pelo nome"
   ]
  },
  {
   "cell_type": "markdown",
   "metadata": {
    "scrolled": true
   },
   "source": [
    "def pivot_IF(nome_IF):\n",
    "    pivot = df[df['nome']== nome_IF].pivot(index='data', columns='variavel',values='valor')\n",
    "    pivot['OpC_off_1'] = pivot['IF.DATA_OpC'].shift(1)\n",
    "    pivot['OpC_off_12'] = pivot['IF.DATA_OpC'].shift(12)\n",
    "    pivot['Capt_off_1'] = pivot['IF.DATA_Capt'].shift(1)\n",
    "    pivot['Capt_off_12'] = pivot['IF.DATA_Capt'].shift(12)\n",
    "    pivot['taxApl'] = pivot['IF.DATA_RdOC'] / ((pivot['IF.DATA_OpC'] + pivot['OpC_off_1'])/2)\n",
    "    pivot['taxCapt'] = pivot['IF.DATA_DCap'] / ((pivot['IF.DATA_Capt'] + pivot['Capt_off_1'])/2)\n",
    "    pivot['spread_banc'] = pivot['taxApl'] +  pivot['taxCapt'] # a captação tem sinal negativo\n",
    "    cols=['spread_banc','taxApl','taxCapt','IF.DATA_DCap', 'IF.DATA_JCP','IF.DATA_PartLuc', 'IF.DATA_RdOC',\n",
    "     'IF.DATA_OpC','OpC_off_1', 'OpC_off_12',\n",
    "     'IF.DATA_Capt', 'Capt_off_1', 'Capt_off_12']\n",
    "    return pivot[cols]\n",
    "pivot_IF(nomes[0])"
   ]
  },
  {
   "cell_type": "markdown",
   "metadata": {},
   "source": [
    "## Pivot pelo id"
   ]
  },
  {
   "cell_type": "code",
   "execution_count": 17,
   "metadata": {},
   "outputs": [
    {
     "data": {
      "text/plain": [
       "-6"
      ]
     },
     "execution_count": 17,
     "metadata": {},
     "output_type": "execute_result"
    }
   ],
   "source": [
    "pd.Series([-1,-2,-3]).sum()"
   ]
  },
  {
   "cell_type": "markdown",
   "metadata": {},
   "source": [
    "<h2 style=\"color:green\">\n",
    "<p>t é o ano</p>\n",
    "$spread_{coop}=\\left(\\frac{RdOC_{t}}{\\frac{OpC_{t}+OpC_{t-1}}{2}}\\right)-\n",
    "\\left(\\frac{DCap_{t}}{\\frac{Capt_{t}+Capt_{t-1}}{2}}\\right) - \n",
    "\\left(\\frac{PartLuc_{t} + JCP_{t}} \n",
    "{\\frac {\\left(\\frac{OpC_{t} + OpC_{t - 1}}{2}\\right)-\\left(\\frac{Capt_{t} + Capt_{t-1}}{2}\\right)}{2}}\\right)$\n",
    "</h2>"
   ]
  },
  {
   "cell_type": "markdown",
   "metadata": {},
   "source": [
    "<h2 style=\"color:green\">\n",
    "<p>t é o ano</p>\n",
    "$spread_{coop}=\\left(\\frac{RdOC_{t}}{\\frac{OpC_{t}+OpC_{t-1}}{2}}\\right)-\n",
    "\\left(\\frac{DCap_{t}}{\\frac{Capt_{t}+Capt_{t-1}}{2}}\\right) - \n",
    "\\left(\\frac{PartLuc_{t} + JCP_{t}} \n",
    "{\\lvert\\left(\\frac{OpC_{t} + OpC_{t - 1}}{2}\\right)-\\left(\\frac{Capt_{t} + Capt_{t-1}}{2}\\right)\\rvert}\\right)$\n",
    "</h2>"
   ]
  },
  {
   "cell_type": "markdown",
   "metadata": {},
   "source": [
    "<h2 style=\"color:green\">\n",
    "$\n",
    "se \\left(\\frac{OpC_{t} + OpC_{t - 1}}{2}\\right) > \\left(\\frac{Capt_{t} + Capt_{t-1}}{2}\\right)\n",
    "$\n",
    "    <br><br>\n",
    "$\n",
    "\\left(\\frac{PartLuc_{t} + JCP_{t}}\n",
    "{\\frac {\\left(\\frac{OpC_{t} + OpC_{t - 1}}{2}\\right)-\\left(\\frac{Capt_{t} + Capt_{t-1}}{2}\\right)}{2}}\\right)$\n",
    "será negativo\n",
    "    <br><br>\n",
    "Do contrário, teremos um número positivo e, portanto, um spread na cooperativa menor que o cálculo do spread bancário.\n",
    "</h2>"
   ]
  },
  {
   "cell_type": "code",
   "execution_count": 18,
   "metadata": {},
   "outputs": [
    {
     "data": {
      "text/plain": [
       "75847"
      ]
     },
     "execution_count": 18,
     "metadata": {},
     "output_type": "execute_result"
    }
   ],
   "source": [
    "ids[0]"
   ]
  },
  {
   "cell_type": "markdown",
   "metadata": {},
   "source": [
    "$\\lvert3\\rvert$"
   ]
  },
  {
   "cell_type": "code",
   "execution_count": 19,
   "metadata": {},
   "outputs": [
    {
     "data": {
      "text/plain": [
       "2"
      ]
     },
     "execution_count": 19,
     "metadata": {},
     "output_type": "execute_result"
    }
   ],
   "source": [
    "abs(-2)"
   ]
  },
  {
   "cell_type": "code",
   "execution_count": 20,
   "metadata": {
    "scrolled": false
   },
   "outputs": [
    {
     "data": {
      "text/html": [
       "<div>\n",
       "<style scoped>\n",
       "    .dataframe tbody tr th:only-of-type {\n",
       "        vertical-align: middle;\n",
       "    }\n",
       "\n",
       "    .dataframe tbody tr th {\n",
       "        vertical-align: top;\n",
       "    }\n",
       "\n",
       "    .dataframe thead th {\n",
       "        text-align: right;\n",
       "    }\n",
       "</style>\n",
       "<table border=\"1\" class=\"dataframe\">\n",
       "  <thead>\n",
       "    <tr style=\"text-align: right;\">\n",
       "      <th>variavel</th>\n",
       "      <th>id</th>\n",
       "      <th>spread_banc</th>\n",
       "      <th>termo_coop</th>\n",
       "      <th>spread_coop</th>\n",
       "      <th>taxApl</th>\n",
       "      <th>taxCapt</th>\n",
       "      <th>IF.DATA_DCap</th>\n",
       "      <th>IF.DATA_JCP</th>\n",
       "      <th>IF.DATA_PartLuc</th>\n",
       "      <th>IF.DATA_RdOC</th>\n",
       "      <th>IF.DATA_OpC</th>\n",
       "      <th>OpC_off_1</th>\n",
       "      <th>IF.DATA_Capt</th>\n",
       "      <th>Capt_off_1</th>\n",
       "    </tr>\n",
       "    <tr>\n",
       "      <th>data</th>\n",
       "      <th></th>\n",
       "      <th></th>\n",
       "      <th></th>\n",
       "      <th></th>\n",
       "      <th></th>\n",
       "      <th></th>\n",
       "      <th></th>\n",
       "      <th></th>\n",
       "      <th></th>\n",
       "      <th></th>\n",
       "      <th></th>\n",
       "      <th></th>\n",
       "      <th></th>\n",
       "      <th></th>\n",
       "    </tr>\n",
       "  </thead>\n",
       "  <tbody>\n",
       "    <tr>\n",
       "      <th>2000</th>\n",
       "      <td>75847</td>\n",
       "      <td>NaN</td>\n",
       "      <td>NaN</td>\n",
       "      <td>NaN</td>\n",
       "      <td>NaN</td>\n",
       "      <td>NaN</td>\n",
       "      <td>-2.573783e+06</td>\n",
       "      <td>0.00</td>\n",
       "      <td>0.0</td>\n",
       "      <td>2.986241e+06</td>\n",
       "      <td>3.103992e+07</td>\n",
       "      <td>NaN</td>\n",
       "      <td>7.166852e+07</td>\n",
       "      <td>NaN</td>\n",
       "    </tr>\n",
       "    <tr>\n",
       "      <th>2001</th>\n",
       "      <td>75847</td>\n",
       "      <td>0.069871</td>\n",
       "      <td>0.000000</td>\n",
       "      <td>0.069871</td>\n",
       "      <td>0.109577</td>\n",
       "      <td>-0.039706</td>\n",
       "      <td>-3.426030e+06</td>\n",
       "      <td>0.00</td>\n",
       "      <td>0.0</td>\n",
       "      <td>3.798966e+06</td>\n",
       "      <td>3.829873e+07</td>\n",
       "      <td>3.103992e+07</td>\n",
       "      <td>1.008993e+08</td>\n",
       "      <td>7.166852e+07</td>\n",
       "    </tr>\n",
       "    <tr>\n",
       "      <th>2002</th>\n",
       "      <td>75847</td>\n",
       "      <td>0.079830</td>\n",
       "      <td>0.000000</td>\n",
       "      <td>0.079830</td>\n",
       "      <td>0.119018</td>\n",
       "      <td>-0.039189</td>\n",
       "      <td>-4.449394e+06</td>\n",
       "      <td>0.00</td>\n",
       "      <td>0.0</td>\n",
       "      <td>5.934521e+06</td>\n",
       "      <td>6.142577e+07</td>\n",
       "      <td>3.829873e+07</td>\n",
       "      <td>1.261760e+08</td>\n",
       "      <td>1.008993e+08</td>\n",
       "    </tr>\n",
       "    <tr>\n",
       "      <th>2003</th>\n",
       "      <td>75847</td>\n",
       "      <td>0.061293</td>\n",
       "      <td>0.000000</td>\n",
       "      <td>0.061293</td>\n",
       "      <td>0.117300</td>\n",
       "      <td>-0.056006</td>\n",
       "      <td>-7.819413e+06</td>\n",
       "      <td>0.00</td>\n",
       "      <td>0.0</td>\n",
       "      <td>7.643681e+06</td>\n",
       "      <td>6.890148e+07</td>\n",
       "      <td>6.142577e+07</td>\n",
       "      <td>1.530570e+08</td>\n",
       "      <td>1.261760e+08</td>\n",
       "    </tr>\n",
       "    <tr>\n",
       "      <th>2004</th>\n",
       "      <td>75847</td>\n",
       "      <td>0.052414</td>\n",
       "      <td>0.000000</td>\n",
       "      <td>0.052414</td>\n",
       "      <td>0.087608</td>\n",
       "      <td>-0.035194</td>\n",
       "      <td>-5.576807e+06</td>\n",
       "      <td>0.00</td>\n",
       "      <td>0.0</td>\n",
       "      <td>6.527201e+06</td>\n",
       "      <td>8.010740e+07</td>\n",
       "      <td>6.890148e+07</td>\n",
       "      <td>1.638574e+08</td>\n",
       "      <td>1.530570e+08</td>\n",
       "    </tr>\n",
       "    <tr>\n",
       "      <th>2005</th>\n",
       "      <td>75847</td>\n",
       "      <td>0.053521</td>\n",
       "      <td>0.000000</td>\n",
       "      <td>0.053521</td>\n",
       "      <td>0.096436</td>\n",
       "      <td>-0.042915</td>\n",
       "      <td>-7.998333e+06</td>\n",
       "      <td>0.00</td>\n",
       "      <td>0.0</td>\n",
       "      <td>9.056384e+06</td>\n",
       "      <td>1.077142e+08</td>\n",
       "      <td>8.010740e+07</td>\n",
       "      <td>2.088969e+08</td>\n",
       "      <td>1.638574e+08</td>\n",
       "    </tr>\n",
       "    <tr>\n",
       "      <th>2006</th>\n",
       "      <td>75847</td>\n",
       "      <td>0.059579</td>\n",
       "      <td>0.000000</td>\n",
       "      <td>0.059579</td>\n",
       "      <td>0.095584</td>\n",
       "      <td>-0.036005</td>\n",
       "      <td>-8.322780e+06</td>\n",
       "      <td>0.00</td>\n",
       "      <td>0.0</td>\n",
       "      <td>1.293196e+07</td>\n",
       "      <td>1.628732e+08</td>\n",
       "      <td>1.077142e+08</td>\n",
       "      <td>2.534147e+08</td>\n",
       "      <td>2.088969e+08</td>\n",
       "    </tr>\n",
       "    <tr>\n",
       "      <th>2007</th>\n",
       "      <td>75847</td>\n",
       "      <td>0.048201</td>\n",
       "      <td>0.000000</td>\n",
       "      <td>0.048201</td>\n",
       "      <td>0.076203</td>\n",
       "      <td>-0.028002</td>\n",
       "      <td>-7.739358e+06</td>\n",
       "      <td>0.00</td>\n",
       "      <td>0.0</td>\n",
       "      <td>1.557158e+07</td>\n",
       "      <td>2.458143e+08</td>\n",
       "      <td>1.628732e+08</td>\n",
       "      <td>2.993509e+08</td>\n",
       "      <td>2.534147e+08</td>\n",
       "    </tr>\n",
       "    <tr>\n",
       "      <th>2008</th>\n",
       "      <td>75847</td>\n",
       "      <td>0.050248</td>\n",
       "      <td>0.000000</td>\n",
       "      <td>0.050248</td>\n",
       "      <td>0.085238</td>\n",
       "      <td>-0.034991</td>\n",
       "      <td>-1.526630e+07</td>\n",
       "      <td>0.00</td>\n",
       "      <td>0.0</td>\n",
       "      <td>3.239877e+07</td>\n",
       "      <td>5.143773e+08</td>\n",
       "      <td>2.458143e+08</td>\n",
       "      <td>5.732451e+08</td>\n",
       "      <td>2.993509e+08</td>\n",
       "    </tr>\n",
       "    <tr>\n",
       "      <th>2009</th>\n",
       "      <td>75847</td>\n",
       "      <td>0.032262</td>\n",
       "      <td>0.000000</td>\n",
       "      <td>0.032262</td>\n",
       "      <td>0.051590</td>\n",
       "      <td>-0.019328</td>\n",
       "      <td>-8.321428e+06</td>\n",
       "      <td>0.00</td>\n",
       "      <td>0.0</td>\n",
       "      <td>2.046403e+07</td>\n",
       "      <td>2.789630e+08</td>\n",
       "      <td>5.143773e+08</td>\n",
       "      <td>2.878481e+08</td>\n",
       "      <td>5.732451e+08</td>\n",
       "    </tr>\n",
       "    <tr>\n",
       "      <th>2010</th>\n",
       "      <td>75847</td>\n",
       "      <td>0.048810</td>\n",
       "      <td>0.000000</td>\n",
       "      <td>0.048810</td>\n",
       "      <td>0.081084</td>\n",
       "      <td>-0.032275</td>\n",
       "      <td>-1.099237e+07</td>\n",
       "      <td>0.00</td>\n",
       "      <td>0.0</td>\n",
       "      <td>2.594159e+07</td>\n",
       "      <td>3.609027e+08</td>\n",
       "      <td>2.789630e+08</td>\n",
       "      <td>3.933232e+08</td>\n",
       "      <td>2.878481e+08</td>\n",
       "    </tr>\n",
       "    <tr>\n",
       "      <th>2011</th>\n",
       "      <td>75847</td>\n",
       "      <td>0.046991</td>\n",
       "      <td>0.000000</td>\n",
       "      <td>0.046991</td>\n",
       "      <td>0.086271</td>\n",
       "      <td>-0.039280</td>\n",
       "      <td>-1.843949e+07</td>\n",
       "      <td>0.00</td>\n",
       "      <td>0.0</td>\n",
       "      <td>3.436373e+07</td>\n",
       "      <td>4.357418e+08</td>\n",
       "      <td>3.609027e+08</td>\n",
       "      <td>5.455463e+08</td>\n",
       "      <td>3.933232e+08</td>\n",
       "    </tr>\n",
       "    <tr>\n",
       "      <th>2012</th>\n",
       "      <td>75847</td>\n",
       "      <td>0.050519</td>\n",
       "      <td>-0.024397</td>\n",
       "      <td>0.026123</td>\n",
       "      <td>0.082702</td>\n",
       "      <td>-0.032182</td>\n",
       "      <td>-4.120231e+07</td>\n",
       "      <td>-6281990.91</td>\n",
       "      <td>0.0</td>\n",
       "      <td>8.458576e+07</td>\n",
       "      <td>1.609818e+09</td>\n",
       "      <td>4.357418e+08</td>\n",
       "      <td>2.014997e+09</td>\n",
       "      <td>5.455463e+08</td>\n",
       "    </tr>\n",
       "    <tr>\n",
       "      <th>2013</th>\n",
       "      <td>75847</td>\n",
       "      <td>0.036320</td>\n",
       "      <td>-0.024354</td>\n",
       "      <td>0.011966</td>\n",
       "      <td>0.056260</td>\n",
       "      <td>-0.019940</td>\n",
       "      <td>-4.391857e+07</td>\n",
       "      <td>-8948025.99</td>\n",
       "      <td>0.0</td>\n",
       "      <td>1.032427e+08</td>\n",
       "      <td>2.060375e+09</td>\n",
       "      <td>1.609818e+09</td>\n",
       "      <td>2.390040e+09</td>\n",
       "      <td>2.014997e+09</td>\n",
       "    </tr>\n",
       "    <tr>\n",
       "      <th>2014</th>\n",
       "      <td>75847</td>\n",
       "      <td>0.036566</td>\n",
       "      <td>-0.049403</td>\n",
       "      <td>-0.012837</td>\n",
       "      <td>0.063428</td>\n",
       "      <td>-0.026861</td>\n",
       "      <td>-7.031849e+07</td>\n",
       "      <td>-15437282.44</td>\n",
       "      <td>0.0</td>\n",
       "      <td>1.462232e+08</td>\n",
       "      <td>2.550328e+09</td>\n",
       "      <td>2.060375e+09</td>\n",
       "      <td>2.845614e+09</td>\n",
       "      <td>2.390040e+09</td>\n",
       "    </tr>\n",
       "    <tr>\n",
       "      <th>2015</th>\n",
       "      <td>75847</td>\n",
       "      <td>0.033562</td>\n",
       "      <td>-0.047805</td>\n",
       "      <td>-0.014243</td>\n",
       "      <td>0.067453</td>\n",
       "      <td>-0.033891</td>\n",
       "      <td>-1.097472e+08</td>\n",
       "      <td>-23832616.89</td>\n",
       "      <td>0.0</td>\n",
       "      <td>1.847992e+08</td>\n",
       "      <td>2.929006e+09</td>\n",
       "      <td>2.550328e+09</td>\n",
       "      <td>3.630793e+09</td>\n",
       "      <td>2.845614e+09</td>\n",
       "    </tr>\n",
       "    <tr>\n",
       "      <th>2016</th>\n",
       "      <td>75847</td>\n",
       "      <td>0.032937</td>\n",
       "      <td>-0.024815</td>\n",
       "      <td>0.008122</td>\n",
       "      <td>0.068827</td>\n",
       "      <td>-0.035890</td>\n",
       "      <td>-1.473770e+08</td>\n",
       "      <td>-23936416.59</td>\n",
       "      <td>0.0</td>\n",
       "      <td>2.162360e+08</td>\n",
       "      <td>3.354481e+09</td>\n",
       "      <td>2.929006e+09</td>\n",
       "      <td>4.581894e+09</td>\n",
       "      <td>3.630793e+09</td>\n",
       "    </tr>\n",
       "    <tr>\n",
       "      <th>2017</th>\n",
       "      <td>75847</td>\n",
       "      <td>0.034463</td>\n",
       "      <td>-0.013843</td>\n",
       "      <td>0.020620</td>\n",
       "      <td>0.062143</td>\n",
       "      <td>-0.027681</td>\n",
       "      <td>-1.454508e+08</td>\n",
       "      <td>-22700448.58</td>\n",
       "      <td>0.0</td>\n",
       "      <td>2.246326e+08</td>\n",
       "      <td>3.875000e+09</td>\n",
       "      <td>3.354481e+09</td>\n",
       "      <td>5.927306e+09</td>\n",
       "      <td>4.581894e+09</td>\n",
       "    </tr>\n",
       "    <tr>\n",
       "      <th>2018</th>\n",
       "      <td>75847</td>\n",
       "      <td>0.033844</td>\n",
       "      <td>-0.006613</td>\n",
       "      <td>0.027231</td>\n",
       "      <td>0.051385</td>\n",
       "      <td>-0.017541</td>\n",
       "      <td>-1.146862e+08</td>\n",
       "      <td>-15830430.78</td>\n",
       "      <td>0.0</td>\n",
       "      <td>2.129701e+08</td>\n",
       "      <td>4.414244e+09</td>\n",
       "      <td>3.875000e+09</td>\n",
       "      <td>7.149274e+09</td>\n",
       "      <td>5.927306e+09</td>\n",
       "    </tr>\n",
       "    <tr>\n",
       "      <th>2019</th>\n",
       "      <td>75847</td>\n",
       "      <td>0.022781</td>\n",
       "      <td>-0.003923</td>\n",
       "      <td>0.018858</td>\n",
       "      <td>0.034452</td>\n",
       "      <td>-0.011671</td>\n",
       "      <td>-7.418677e+07</td>\n",
       "      <td>-9993618.83</td>\n",
       "      <td>0.0</td>\n",
       "      <td>1.312186e+08</td>\n",
       "      <td>3.203197e+09</td>\n",
       "      <td>4.414244e+09</td>\n",
       "      <td>5.563494e+09</td>\n",
       "      <td>7.149274e+09</td>\n",
       "    </tr>\n",
       "  </tbody>\n",
       "</table>\n",
       "</div>"
      ],
      "text/plain": [
       "variavel     id  spread_banc  termo_coop  spread_coop    taxApl   taxCapt  \\\n",
       "data                                                                        \n",
       "2000      75847          NaN         NaN          NaN       NaN       NaN   \n",
       "2001      75847     0.069871    0.000000     0.069871  0.109577 -0.039706   \n",
       "2002      75847     0.079830    0.000000     0.079830  0.119018 -0.039189   \n",
       "2003      75847     0.061293    0.000000     0.061293  0.117300 -0.056006   \n",
       "2004      75847     0.052414    0.000000     0.052414  0.087608 -0.035194   \n",
       "2005      75847     0.053521    0.000000     0.053521  0.096436 -0.042915   \n",
       "2006      75847     0.059579    0.000000     0.059579  0.095584 -0.036005   \n",
       "2007      75847     0.048201    0.000000     0.048201  0.076203 -0.028002   \n",
       "2008      75847     0.050248    0.000000     0.050248  0.085238 -0.034991   \n",
       "2009      75847     0.032262    0.000000     0.032262  0.051590 -0.019328   \n",
       "2010      75847     0.048810    0.000000     0.048810  0.081084 -0.032275   \n",
       "2011      75847     0.046991    0.000000     0.046991  0.086271 -0.039280   \n",
       "2012      75847     0.050519   -0.024397     0.026123  0.082702 -0.032182   \n",
       "2013      75847     0.036320   -0.024354     0.011966  0.056260 -0.019940   \n",
       "2014      75847     0.036566   -0.049403    -0.012837  0.063428 -0.026861   \n",
       "2015      75847     0.033562   -0.047805    -0.014243  0.067453 -0.033891   \n",
       "2016      75847     0.032937   -0.024815     0.008122  0.068827 -0.035890   \n",
       "2017      75847     0.034463   -0.013843     0.020620  0.062143 -0.027681   \n",
       "2018      75847     0.033844   -0.006613     0.027231  0.051385 -0.017541   \n",
       "2019      75847     0.022781   -0.003923     0.018858  0.034452 -0.011671   \n",
       "\n",
       "variavel  IF.DATA_DCap  IF.DATA_JCP  IF.DATA_PartLuc  IF.DATA_RdOC  \\\n",
       "data                                                                 \n",
       "2000     -2.573783e+06         0.00              0.0  2.986241e+06   \n",
       "2001     -3.426030e+06         0.00              0.0  3.798966e+06   \n",
       "2002     -4.449394e+06         0.00              0.0  5.934521e+06   \n",
       "2003     -7.819413e+06         0.00              0.0  7.643681e+06   \n",
       "2004     -5.576807e+06         0.00              0.0  6.527201e+06   \n",
       "2005     -7.998333e+06         0.00              0.0  9.056384e+06   \n",
       "2006     -8.322780e+06         0.00              0.0  1.293196e+07   \n",
       "2007     -7.739358e+06         0.00              0.0  1.557158e+07   \n",
       "2008     -1.526630e+07         0.00              0.0  3.239877e+07   \n",
       "2009     -8.321428e+06         0.00              0.0  2.046403e+07   \n",
       "2010     -1.099237e+07         0.00              0.0  2.594159e+07   \n",
       "2011     -1.843949e+07         0.00              0.0  3.436373e+07   \n",
       "2012     -4.120231e+07  -6281990.91              0.0  8.458576e+07   \n",
       "2013     -4.391857e+07  -8948025.99              0.0  1.032427e+08   \n",
       "2014     -7.031849e+07 -15437282.44              0.0  1.462232e+08   \n",
       "2015     -1.097472e+08 -23832616.89              0.0  1.847992e+08   \n",
       "2016     -1.473770e+08 -23936416.59              0.0  2.162360e+08   \n",
       "2017     -1.454508e+08 -22700448.58              0.0  2.246326e+08   \n",
       "2018     -1.146862e+08 -15830430.78              0.0  2.129701e+08   \n",
       "2019     -7.418677e+07  -9993618.83              0.0  1.312186e+08   \n",
       "\n",
       "variavel   IF.DATA_OpC     OpC_off_1  IF.DATA_Capt    Capt_off_1  \n",
       "data                                                              \n",
       "2000      3.103992e+07           NaN  7.166852e+07           NaN  \n",
       "2001      3.829873e+07  3.103992e+07  1.008993e+08  7.166852e+07  \n",
       "2002      6.142577e+07  3.829873e+07  1.261760e+08  1.008993e+08  \n",
       "2003      6.890148e+07  6.142577e+07  1.530570e+08  1.261760e+08  \n",
       "2004      8.010740e+07  6.890148e+07  1.638574e+08  1.530570e+08  \n",
       "2005      1.077142e+08  8.010740e+07  2.088969e+08  1.638574e+08  \n",
       "2006      1.628732e+08  1.077142e+08  2.534147e+08  2.088969e+08  \n",
       "2007      2.458143e+08  1.628732e+08  2.993509e+08  2.534147e+08  \n",
       "2008      5.143773e+08  2.458143e+08  5.732451e+08  2.993509e+08  \n",
       "2009      2.789630e+08  5.143773e+08  2.878481e+08  5.732451e+08  \n",
       "2010      3.609027e+08  2.789630e+08  3.933232e+08  2.878481e+08  \n",
       "2011      4.357418e+08  3.609027e+08  5.455463e+08  3.933232e+08  \n",
       "2012      1.609818e+09  4.357418e+08  2.014997e+09  5.455463e+08  \n",
       "2013      2.060375e+09  1.609818e+09  2.390040e+09  2.014997e+09  \n",
       "2014      2.550328e+09  2.060375e+09  2.845614e+09  2.390040e+09  \n",
       "2015      2.929006e+09  2.550328e+09  3.630793e+09  2.845614e+09  \n",
       "2016      3.354481e+09  2.929006e+09  4.581894e+09  3.630793e+09  \n",
       "2017      3.875000e+09  3.354481e+09  5.927306e+09  4.581894e+09  \n",
       "2018      4.414244e+09  3.875000e+09  7.149274e+09  5.927306e+09  \n",
       "2019      3.203197e+09  4.414244e+09  5.563494e+09  7.149274e+09  "
      ]
     },
     "execution_count": 20,
     "metadata": {},
     "output_type": "execute_result"
    }
   ],
   "source": [
    "def pivot_IF(id):\n",
    "    #print('este e o id: ')\n",
    "    #print(id)\n",
    "    pivot = df[df['id_coop']== id].pivot(index='data', columns='variavel',values='valor')\n",
    "    pivot = pivot.groupby(pivot.index.year).sum()\n",
    "    pivot['id'] = id\n",
    "    pivot['OpC_off_1'] = pivot['IF.DATA_OpC'].shift(1)\n",
    "    #pivot['OpC_off_12'] = pivot['IF.DATA_OpC'].shift(12)\n",
    "    pivot['Capt_off_1'] = pivot['IF.DATA_Capt'].shift(1)\n",
    "    #pivot['Capt_off_12'] = pivot['IF.DATA_Capt'].shift(12)\n",
    "    pivot['taxApl'] = pivot['IF.DATA_RdOC'] / ((pivot['IF.DATA_OpC'] + pivot['OpC_off_1'])/2)\n",
    "    pivot['taxCapt'] = pivot['IF.DATA_DCap'] / ((pivot['IF.DATA_Capt'] + pivot['Capt_off_1'])/2)\n",
    "    pivot['spread_banc'] = pivot['taxApl'] +  pivot['taxCapt'] # a captação tem sinal negativo\n",
    "    pivot['termo_coop'] = \\\n",
    "    (\n",
    "        (pivot['IF.DATA_PartLuc'] + pivot['IF.DATA_JCP']) / \n",
    "        abs(\n",
    "            (\n",
    "                (\n",
    "                    (pivot['IF.DATA_OpC'] + pivot['OpC_off_1'])\n",
    "                    / 2 \n",
    "                ) -\n",
    "                (\n",
    "                    (pivot['IF.DATA_Capt'] + pivot['Capt_off_1'])\n",
    "                    / 2 \n",
    "                )\n",
    "            )          \n",
    "        )\n",
    "    )\n",
    "    # termo coop é negativo se a media de operações de crédito for maior que\n",
    "    # a média de captação\n",
    "    pivot['spread_coop'] = pivot['spread_banc'] + pivot['termo_coop'] \n",
    "    cols=['id','spread_banc', 'termo_coop','spread_coop','taxApl','taxCapt','IF.DATA_DCap', 'IF.DATA_JCP','IF.DATA_PartLuc', 'IF.DATA_RdOC',\n",
    "     'IF.DATA_OpC','OpC_off_1', 'IF.DATA_Capt', 'Capt_off_1']\n",
    "    return pivot[cols]\n",
    "pivot_IF(ids[0])"
   ]
  },
  {
   "cell_type": "code",
   "execution_count": 21,
   "metadata": {
    "scrolled": true
   },
   "outputs": [
    {
     "data": {
      "text/plain": [
       "Index(['id', 'spread_banc', 'termo_coop', 'spread_coop', 'taxApl', 'taxCapt',\n",
       "       'IF.DATA_DCap', 'IF.DATA_JCP', 'IF.DATA_PartLuc', 'IF.DATA_RdOC',\n",
       "       'IF.DATA_OpC', 'OpC_off_1', 'IF.DATA_Capt', 'Capt_off_1'],\n",
       "      dtype='object', name='variavel')"
      ]
     },
     "execution_count": 21,
     "metadata": {},
     "output_type": "execute_result"
    }
   ],
   "source": [
    "test_if = pivot_IF(ids[1])\n",
    "test_if.columns"
   ]
  },
  {
   "cell_type": "code",
   "execution_count": 22,
   "metadata": {},
   "outputs": [
    {
     "data": {
      "text/plain": [
       "[<matplotlib.lines.Line2D at 0x1e0d4ec6dd8>]"
      ]
     },
     "execution_count": 22,
     "metadata": {},
     "output_type": "execute_result"
    },
    {
     "data": {
      "image/png": "[encoded data removed]",
      "text/plain": [
       "<Figure size 432x288 with 1 Axes>"
      ]
     },
     "metadata": {
      "needs_background": "light"
     },
     "output_type": "display_data"
    }
   ],
   "source": [
    "plt.plot(test_if.index, test_if['spread_coop'])"
   ]
  },
  {
   "cell_type": "code",
   "execution_count": 23,
   "metadata": {
    "scrolled": false
   },
   "outputs": [],
   "source": [
    "def monta_csv():\n",
    "    cols=['id','spread_banc', 'termo_coop','spread_coop','taxApl',\n",
    "          'taxCapt','IF.DATA_DCap', 'IF.DATA_JCP','IF.DATA_PartLuc', 'IF.DATA_RdOC',\n",
    "     'IF.DATA_OpC','OpC_off_1', 'IF.DATA_Capt', 'Capt_off_1']\n",
    "    total = pd.DataFrame(columns=cols)\n",
    "    for n in ids:\n",
    "        total = total.append(pivot_IF(n))\n",
    "    return total\n",
    "completo = monta_csv()\n",
    "#completo.to_csv(\"arrumado.csv\", encoding=\"latin1\", sep=\";\")"
   ]
  },
  {
   "cell_type": "code",
   "execution_count": 24,
   "metadata": {},
   "outputs": [
    {
     "data": {
      "text/plain": [
       "100"
      ]
     },
     "execution_count": 24,
     "metadata": {},
     "output_type": "execute_result"
    }
   ],
   "source": [
    "ids.count()"
   ]
  },
  {
   "cell_type": "code",
   "execution_count": 25,
   "metadata": {},
   "outputs": [
    {
     "data": {
      "text/plain": [
       "100"
      ]
     },
     "execution_count": 25,
     "metadata": {},
     "output_type": "execute_result"
    }
   ],
   "source": [
    "len(completo['id'].unique())"
   ]
  },
  {
   "cell_type": "code",
   "execution_count": 26,
   "metadata": {},
   "outputs": [
    {
     "data": {
      "text/html": [
       "<div>\n",
       "<style scoped>\n",
       "    .dataframe tbody tr th:only-of-type {\n",
       "        vertical-align: middle;\n",
       "    }\n",
       "\n",
       "    .dataframe tbody tr th {\n",
       "        vertical-align: top;\n",
       "    }\n",
       "\n",
       "    .dataframe thead th {\n",
       "        text-align: right;\n",
       "    }\n",
       "</style>\n",
       "<table border=\"1\" class=\"dataframe\">\n",
       "  <thead>\n",
       "    <tr style=\"text-align: right;\">\n",
       "      <th>variavel</th>\n",
       "      <th>id</th>\n",
       "      <th>spread_banc</th>\n",
       "      <th>termo_coop</th>\n",
       "      <th>spread_coop</th>\n",
       "      <th>taxApl</th>\n",
       "      <th>taxCapt</th>\n",
       "      <th>IF.DATA_DCap</th>\n",
       "      <th>IF.DATA_JCP</th>\n",
       "      <th>IF.DATA_PartLuc</th>\n",
       "      <th>IF.DATA_RdOC</th>\n",
       "      <th>IF.DATA_OpC</th>\n",
       "      <th>OpC_off_1</th>\n",
       "      <th>IF.DATA_Capt</th>\n",
       "      <th>Capt_off_1</th>\n",
       "    </tr>\n",
       "  </thead>\n",
       "  <tbody>\n",
       "    <tr>\n",
       "      <th>2000</th>\n",
       "      <td>75847</td>\n",
       "      <td>NaN</td>\n",
       "      <td>NaN</td>\n",
       "      <td>NaN</td>\n",
       "      <td>NaN</td>\n",
       "      <td>NaN</td>\n",
       "      <td>-2.573783e+06</td>\n",
       "      <td>0.00</td>\n",
       "      <td>0.0</td>\n",
       "      <td>2.986241e+06</td>\n",
       "      <td>3.103992e+07</td>\n",
       "      <td>NaN</td>\n",
       "      <td>7.166852e+07</td>\n",
       "      <td>NaN</td>\n",
       "    </tr>\n",
       "    <tr>\n",
       "      <th>2001</th>\n",
       "      <td>75847</td>\n",
       "      <td>0.069871</td>\n",
       "      <td>0.000000</td>\n",
       "      <td>0.069871</td>\n",
       "      <td>0.109577</td>\n",
       "      <td>-0.039706</td>\n",
       "      <td>-3.426030e+06</td>\n",
       "      <td>0.00</td>\n",
       "      <td>0.0</td>\n",
       "      <td>3.798966e+06</td>\n",
       "      <td>3.829873e+07</td>\n",
       "      <td>3.103992e+07</td>\n",
       "      <td>1.008993e+08</td>\n",
       "      <td>7.166852e+07</td>\n",
       "    </tr>\n",
       "    <tr>\n",
       "      <th>2002</th>\n",
       "      <td>75847</td>\n",
       "      <td>0.079830</td>\n",
       "      <td>0.000000</td>\n",
       "      <td>0.079830</td>\n",
       "      <td>0.119018</td>\n",
       "      <td>-0.039189</td>\n",
       "      <td>-4.449394e+06</td>\n",
       "      <td>0.00</td>\n",
       "      <td>0.0</td>\n",
       "      <td>5.934521e+06</td>\n",
       "      <td>6.142577e+07</td>\n",
       "      <td>3.829873e+07</td>\n",
       "      <td>1.261760e+08</td>\n",
       "      <td>1.008993e+08</td>\n",
       "    </tr>\n",
       "    <tr>\n",
       "      <th>2003</th>\n",
       "      <td>75847</td>\n",
       "      <td>0.061293</td>\n",
       "      <td>0.000000</td>\n",
       "      <td>0.061293</td>\n",
       "      <td>0.117300</td>\n",
       "      <td>-0.056006</td>\n",
       "      <td>-7.819413e+06</td>\n",
       "      <td>0.00</td>\n",
       "      <td>0.0</td>\n",
       "      <td>7.643681e+06</td>\n",
       "      <td>6.890148e+07</td>\n",
       "      <td>6.142577e+07</td>\n",
       "      <td>1.530570e+08</td>\n",
       "      <td>1.261760e+08</td>\n",
       "    </tr>\n",
       "    <tr>\n",
       "      <th>2004</th>\n",
       "      <td>75847</td>\n",
       "      <td>0.052414</td>\n",
       "      <td>0.000000</td>\n",
       "      <td>0.052414</td>\n",
       "      <td>0.087608</td>\n",
       "      <td>-0.035194</td>\n",
       "      <td>-5.576807e+06</td>\n",
       "      <td>0.00</td>\n",
       "      <td>0.0</td>\n",
       "      <td>6.527201e+06</td>\n",
       "      <td>8.010740e+07</td>\n",
       "      <td>6.890148e+07</td>\n",
       "      <td>1.638574e+08</td>\n",
       "      <td>1.530570e+08</td>\n",
       "    </tr>\n",
       "    <tr>\n",
       "      <th>2005</th>\n",
       "      <td>75847</td>\n",
       "      <td>0.053521</td>\n",
       "      <td>0.000000</td>\n",
       "      <td>0.053521</td>\n",
       "      <td>0.096436</td>\n",
       "      <td>-0.042915</td>\n",
       "      <td>-7.998333e+06</td>\n",
       "      <td>0.00</td>\n",
       "      <td>0.0</td>\n",
       "      <td>9.056384e+06</td>\n",
       "      <td>1.077142e+08</td>\n",
       "      <td>8.010740e+07</td>\n",
       "      <td>2.088969e+08</td>\n",
       "      <td>1.638574e+08</td>\n",
       "    </tr>\n",
       "    <tr>\n",
       "      <th>2006</th>\n",
       "      <td>75847</td>\n",
       "      <td>0.059579</td>\n",
       "      <td>0.000000</td>\n",
       "      <td>0.059579</td>\n",
       "      <td>0.095584</td>\n",
       "      <td>-0.036005</td>\n",
       "      <td>-8.322780e+06</td>\n",
       "      <td>0.00</td>\n",
       "      <td>0.0</td>\n",
       "      <td>1.293196e+07</td>\n",
       "      <td>1.628732e+08</td>\n",
       "      <td>1.077142e+08</td>\n",
       "      <td>2.534147e+08</td>\n",
       "      <td>2.088969e+08</td>\n",
       "    </tr>\n",
       "    <tr>\n",
       "      <th>2007</th>\n",
       "      <td>75847</td>\n",
       "      <td>0.048201</td>\n",
       "      <td>0.000000</td>\n",
       "      <td>0.048201</td>\n",
       "      <td>0.076203</td>\n",
       "      <td>-0.028002</td>\n",
       "      <td>-7.739358e+06</td>\n",
       "      <td>0.00</td>\n",
       "      <td>0.0</td>\n",
       "      <td>1.557158e+07</td>\n",
       "      <td>2.458143e+08</td>\n",
       "      <td>1.628732e+08</td>\n",
       "      <td>2.993509e+08</td>\n",
       "      <td>2.534147e+08</td>\n",
       "    </tr>\n",
       "    <tr>\n",
       "      <th>2008</th>\n",
       "      <td>75847</td>\n",
       "      <td>0.050248</td>\n",
       "      <td>0.000000</td>\n",
       "      <td>0.050248</td>\n",
       "      <td>0.085238</td>\n",
       "      <td>-0.034991</td>\n",
       "      <td>-1.526630e+07</td>\n",
       "      <td>0.00</td>\n",
       "      <td>0.0</td>\n",
       "      <td>3.239877e+07</td>\n",
       "      <td>5.143773e+08</td>\n",
       "      <td>2.458143e+08</td>\n",
       "      <td>5.732451e+08</td>\n",
       "      <td>2.993509e+08</td>\n",
       "    </tr>\n",
       "    <tr>\n",
       "      <th>2009</th>\n",
       "      <td>75847</td>\n",
       "      <td>0.032262</td>\n",
       "      <td>0.000000</td>\n",
       "      <td>0.032262</td>\n",
       "      <td>0.051590</td>\n",
       "      <td>-0.019328</td>\n",
       "      <td>-8.321428e+06</td>\n",
       "      <td>0.00</td>\n",
       "      <td>0.0</td>\n",
       "      <td>2.046403e+07</td>\n",
       "      <td>2.789630e+08</td>\n",
       "      <td>5.143773e+08</td>\n",
       "      <td>2.878481e+08</td>\n",
       "      <td>5.732451e+08</td>\n",
       "    </tr>\n",
       "    <tr>\n",
       "      <th>2010</th>\n",
       "      <td>75847</td>\n",
       "      <td>0.048810</td>\n",
       "      <td>0.000000</td>\n",
       "      <td>0.048810</td>\n",
       "      <td>0.081084</td>\n",
       "      <td>-0.032275</td>\n",
       "      <td>-1.099237e+07</td>\n",
       "      <td>0.00</td>\n",
       "      <td>0.0</td>\n",
       "      <td>2.594159e+07</td>\n",
       "      <td>3.609027e+08</td>\n",
       "      <td>2.789630e+08</td>\n",
       "      <td>3.933232e+08</td>\n",
       "      <td>2.878481e+08</td>\n",
       "    </tr>\n",
       "    <tr>\n",
       "      <th>2011</th>\n",
       "      <td>75847</td>\n",
       "      <td>0.046991</td>\n",
       "      <td>0.000000</td>\n",
       "      <td>0.046991</td>\n",
       "      <td>0.086271</td>\n",
       "      <td>-0.039280</td>\n",
       "      <td>-1.843949e+07</td>\n",
       "      <td>0.00</td>\n",
       "      <td>0.0</td>\n",
       "      <td>3.436373e+07</td>\n",
       "      <td>4.357418e+08</td>\n",
       "      <td>3.609027e+08</td>\n",
       "      <td>5.455463e+08</td>\n",
       "      <td>3.933232e+08</td>\n",
       "    </tr>\n",
       "    <tr>\n",
       "      <th>2012</th>\n",
       "      <td>75847</td>\n",
       "      <td>0.050519</td>\n",
       "      <td>-0.024397</td>\n",
       "      <td>0.026123</td>\n",
       "      <td>0.082702</td>\n",
       "      <td>-0.032182</td>\n",
       "      <td>-4.120231e+07</td>\n",
       "      <td>-6281990.91</td>\n",
       "      <td>0.0</td>\n",
       "      <td>8.458576e+07</td>\n",
       "      <td>1.609818e+09</td>\n",
       "      <td>4.357418e+08</td>\n",
       "      <td>2.014997e+09</td>\n",
       "      <td>5.455463e+08</td>\n",
       "    </tr>\n",
       "    <tr>\n",
       "      <th>2013</th>\n",
       "      <td>75847</td>\n",
       "      <td>0.036320</td>\n",
       "      <td>-0.024354</td>\n",
       "      <td>0.011966</td>\n",
       "      <td>0.056260</td>\n",
       "      <td>-0.019940</td>\n",
       "      <td>-4.391857e+07</td>\n",
       "      <td>-8948025.99</td>\n",
       "      <td>0.0</td>\n",
       "      <td>1.032427e+08</td>\n",
       "      <td>2.060375e+09</td>\n",
       "      <td>1.609818e+09</td>\n",
       "      <td>2.390040e+09</td>\n",
       "      <td>2.014997e+09</td>\n",
       "    </tr>\n",
       "    <tr>\n",
       "      <th>2014</th>\n",
       "      <td>75847</td>\n",
       "      <td>0.036566</td>\n",
       "      <td>-0.049403</td>\n",
       "      <td>-0.012837</td>\n",
       "      <td>0.063428</td>\n",
       "      <td>-0.026861</td>\n",
       "      <td>-7.031849e+07</td>\n",
       "      <td>-15437282.44</td>\n",
       "      <td>0.0</td>\n",
       "      <td>1.462232e+08</td>\n",
       "      <td>2.550328e+09</td>\n",
       "      <td>2.060375e+09</td>\n",
       "      <td>2.845614e+09</td>\n",
       "      <td>2.390040e+09</td>\n",
       "    </tr>\n",
       "    <tr>\n",
       "      <th>2015</th>\n",
       "      <td>75847</td>\n",
       "      <td>0.033562</td>\n",
       "      <td>-0.047805</td>\n",
       "      <td>-0.014243</td>\n",
       "      <td>0.067453</td>\n",
       "      <td>-0.033891</td>\n",
       "      <td>-1.097472e+08</td>\n",
       "      <td>-23832616.89</td>\n",
       "      <td>0.0</td>\n",
       "      <td>1.847992e+08</td>\n",
       "      <td>2.929006e+09</td>\n",
       "      <td>2.550328e+09</td>\n",
       "      <td>3.630793e+09</td>\n",
       "      <td>2.845614e+09</td>\n",
       "    </tr>\n",
       "    <tr>\n",
       "      <th>2016</th>\n",
       "      <td>75847</td>\n",
       "      <td>0.032937</td>\n",
       "      <td>-0.024815</td>\n",
       "      <td>0.008122</td>\n",
       "      <td>0.068827</td>\n",
       "      <td>-0.035890</td>\n",
       "      <td>-1.473770e+08</td>\n",
       "      <td>-23936416.59</td>\n",
       "      <td>0.0</td>\n",
       "      <td>2.162360e+08</td>\n",
       "      <td>3.354481e+09</td>\n",
       "      <td>2.929006e+09</td>\n",
       "      <td>4.581894e+09</td>\n",
       "      <td>3.630793e+09</td>\n",
       "    </tr>\n",
       "    <tr>\n",
       "      <th>2017</th>\n",
       "      <td>75847</td>\n",
       "      <td>0.034463</td>\n",
       "      <td>-0.013843</td>\n",
       "      <td>0.020620</td>\n",
       "      <td>0.062143</td>\n",
       "      <td>-0.027681</td>\n",
       "      <td>-1.454508e+08</td>\n",
       "      <td>-22700448.58</td>\n",
       "      <td>0.0</td>\n",
       "      <td>2.246326e+08</td>\n",
       "      <td>3.875000e+09</td>\n",
       "      <td>3.354481e+09</td>\n",
       "      <td>5.927306e+09</td>\n",
       "      <td>4.581894e+09</td>\n",
       "    </tr>\n",
       "    <tr>\n",
       "      <th>2018</th>\n",
       "      <td>75847</td>\n",
       "      <td>0.033844</td>\n",
       "      <td>-0.006613</td>\n",
       "      <td>0.027231</td>\n",
       "      <td>0.051385</td>\n",
       "      <td>-0.017541</td>\n",
       "      <td>-1.146862e+08</td>\n",
       "      <td>-15830430.78</td>\n",
       "      <td>0.0</td>\n",
       "      <td>2.129701e+08</td>\n",
       "      <td>4.414244e+09</td>\n",
       "      <td>3.875000e+09</td>\n",
       "      <td>7.149274e+09</td>\n",
       "      <td>5.927306e+09</td>\n",
       "    </tr>\n",
       "    <tr>\n",
       "      <th>2019</th>\n",
       "      <td>75847</td>\n",
       "      <td>0.022781</td>\n",
       "      <td>-0.003923</td>\n",
       "      <td>0.018858</td>\n",
       "      <td>0.034452</td>\n",
       "      <td>-0.011671</td>\n",
       "      <td>-7.418677e+07</td>\n",
       "      <td>-9993618.83</td>\n",
       "      <td>0.0</td>\n",
       "      <td>1.312186e+08</td>\n",
       "      <td>3.203197e+09</td>\n",
       "      <td>4.414244e+09</td>\n",
       "      <td>5.563494e+09</td>\n",
       "      <td>7.149274e+09</td>\n",
       "    </tr>\n",
       "  </tbody>\n",
       "</table>\n",
       "</div>"
      ],
      "text/plain": [
       "variavel     id  spread_banc  termo_coop  spread_coop    taxApl   taxCapt  \\\n",
       "2000      75847          NaN         NaN          NaN       NaN       NaN   \n",
       "2001      75847     0.069871    0.000000     0.069871  0.109577 -0.039706   \n",
       "2002      75847     0.079830    0.000000     0.079830  0.119018 -0.039189   \n",
       "2003      75847     0.061293    0.000000     0.061293  0.117300 -0.056006   \n",
       "2004      75847     0.052414    0.000000     0.052414  0.087608 -0.035194   \n",
       "2005      75847     0.053521    0.000000     0.053521  0.096436 -0.042915   \n",
       "2006      75847     0.059579    0.000000     0.059579  0.095584 -0.036005   \n",
       "2007      75847     0.048201    0.000000     0.048201  0.076203 -0.028002   \n",
       "2008      75847     0.050248    0.000000     0.050248  0.085238 -0.034991   \n",
       "2009      75847     0.032262    0.000000     0.032262  0.051590 -0.019328   \n",
       "2010      75847     0.048810    0.000000     0.048810  0.081084 -0.032275   \n",
       "2011      75847     0.046991    0.000000     0.046991  0.086271 -0.039280   \n",
       "2012      75847     0.050519   -0.024397     0.026123  0.082702 -0.032182   \n",
       "2013      75847     0.036320   -0.024354     0.011966  0.056260 -0.019940   \n",
       "2014      75847     0.036566   -0.049403    -0.012837  0.063428 -0.026861   \n",
       "2015      75847     0.033562   -0.047805    -0.014243  0.067453 -0.033891   \n",
       "2016      75847     0.032937   -0.024815     0.008122  0.068827 -0.035890   \n",
       "2017      75847     0.034463   -0.013843     0.020620  0.062143 -0.027681   \n",
       "2018      75847     0.033844   -0.006613     0.027231  0.051385 -0.017541   \n",
       "2019      75847     0.022781   -0.003923     0.018858  0.034452 -0.011671   \n",
       "\n",
       "variavel  IF.DATA_DCap  IF.DATA_JCP  IF.DATA_PartLuc  IF.DATA_RdOC  \\\n",
       "2000     -2.573783e+06         0.00              0.0  2.986241e+06   \n",
       "2001     -3.426030e+06         0.00              0.0  3.798966e+06   \n",
       "2002     -4.449394e+06         0.00              0.0  5.934521e+06   \n",
       "2003     -7.819413e+06         0.00              0.0  7.643681e+06   \n",
       "2004     -5.576807e+06         0.00              0.0  6.527201e+06   \n",
       "2005     -7.998333e+06         0.00              0.0  9.056384e+06   \n",
       "2006     -8.322780e+06         0.00              0.0  1.293196e+07   \n",
       "2007     -7.739358e+06         0.00              0.0  1.557158e+07   \n",
       "2008     -1.526630e+07         0.00              0.0  3.239877e+07   \n",
       "2009     -8.321428e+06         0.00              0.0  2.046403e+07   \n",
       "2010     -1.099237e+07         0.00              0.0  2.594159e+07   \n",
       "2011     -1.843949e+07         0.00              0.0  3.436373e+07   \n",
       "2012     -4.120231e+07  -6281990.91              0.0  8.458576e+07   \n",
       "2013     -4.391857e+07  -8948025.99              0.0  1.032427e+08   \n",
       "2014     -7.031849e+07 -15437282.44              0.0  1.462232e+08   \n",
       "2015     -1.097472e+08 -23832616.89              0.0  1.847992e+08   \n",
       "2016     -1.473770e+08 -23936416.59              0.0  2.162360e+08   \n",
       "2017     -1.454508e+08 -22700448.58              0.0  2.246326e+08   \n",
       "2018     -1.146862e+08 -15830430.78              0.0  2.129701e+08   \n",
       "2019     -7.418677e+07  -9993618.83              0.0  1.312186e+08   \n",
       "\n",
       "variavel   IF.DATA_OpC     OpC_off_1  IF.DATA_Capt    Capt_off_1  \n",
       "2000      3.103992e+07           NaN  7.166852e+07           NaN  \n",
       "2001      3.829873e+07  3.103992e+07  1.008993e+08  7.166852e+07  \n",
       "2002      6.142577e+07  3.829873e+07  1.261760e+08  1.008993e+08  \n",
       "2003      6.890148e+07  6.142577e+07  1.530570e+08  1.261760e+08  \n",
       "2004      8.010740e+07  6.890148e+07  1.638574e+08  1.530570e+08  \n",
       "2005      1.077142e+08  8.010740e+07  2.088969e+08  1.638574e+08  \n",
       "2006      1.628732e+08  1.077142e+08  2.534147e+08  2.088969e+08  \n",
       "2007      2.458143e+08  1.628732e+08  2.993509e+08  2.534147e+08  \n",
       "2008      5.143773e+08  2.458143e+08  5.732451e+08  2.993509e+08  \n",
       "2009      2.789630e+08  5.143773e+08  2.878481e+08  5.732451e+08  \n",
       "2010      3.609027e+08  2.789630e+08  3.933232e+08  2.878481e+08  \n",
       "2011      4.357418e+08  3.609027e+08  5.455463e+08  3.933232e+08  \n",
       "2012      1.609818e+09  4.357418e+08  2.014997e+09  5.455463e+08  \n",
       "2013      2.060375e+09  1.609818e+09  2.390040e+09  2.014997e+09  \n",
       "2014      2.550328e+09  2.060375e+09  2.845614e+09  2.390040e+09  \n",
       "2015      2.929006e+09  2.550328e+09  3.630793e+09  2.845614e+09  \n",
       "2016      3.354481e+09  2.929006e+09  4.581894e+09  3.630793e+09  \n",
       "2017      3.875000e+09  3.354481e+09  5.927306e+09  4.581894e+09  \n",
       "2018      4.414244e+09  3.875000e+09  7.149274e+09  5.927306e+09  \n",
       "2019      3.203197e+09  4.414244e+09  5.563494e+09  7.149274e+09  "
      ]
     },
     "execution_count": 26,
     "metadata": {},
     "output_type": "execute_result"
    }
   ],
   "source": [
    "completo[completo['id']== ids[0]]"
   ]
  },
  {
   "cell_type": "code",
   "execution_count": 36,
   "metadata": {},
   "outputs": [
    {
     "name": "stdout",
     "output_type": "stream",
     "text": [
      "<class 'pandas.core.frame.DataFrame'>\n",
      "Int64Index: 1980 entries, 2000 to 2019\n",
      "Data columns (total 14 columns):\n",
      "id                 1980 non-null object\n",
      "spread_banc        1880 non-null float64\n",
      "termo_coop         1880 non-null float64\n",
      "spread_coop        1880 non-null float64\n",
      "taxApl             1880 non-null float64\n",
      "taxCapt            1880 non-null float64\n",
      "IF.DATA_DCap       1980 non-null float64\n",
      "IF.DATA_JCP        1980 non-null float64\n",
      "IF.DATA_PartLuc    1980 non-null float64\n",
      "IF.DATA_RdOC       1980 non-null float64\n",
      "IF.DATA_OpC        1980 non-null float64\n",
      "OpC_off_1          1880 non-null float64\n",
      "IF.DATA_Capt       1980 non-null float64\n",
      "Capt_off_1         1880 non-null float64\n",
      "dtypes: float64(13), object(1)\n",
      "memory usage: 232.0+ KB\n"
     ]
    }
   ],
   "source": [
    "completo.info()"
   ]
  },
  {
   "cell_type": "code",
   "execution_count": null,
   "metadata": {},
   "outputs": [],
   "source": []
  },
  {
   "cell_type": "code",
   "execution_count": 37,
   "metadata": {
    "scrolled": true
   },
   "outputs": [
    {
     "data": {
      "text/plain": [
       "<matplotlib.axes._subplots.AxesSubplot at 0x1e0d5783710>"
      ]
     },
     "execution_count": 37,
     "metadata": {},
     "output_type": "execute_result"
    },
    {
     "data": {
      "image/png": "[encoded data removed]",
      "text/plain": [
       "<Figure size 432x288 with 1 Axes>"
      ]
     },
     "metadata": {},
     "output_type": "display_data"
    }
   ],
   "source": [
    "sns.boxplot(completo.spread_coop)"
   ]
  },
  {
   "cell_type": "code",
   "execution_count": 38,
   "metadata": {},
   "outputs": [
    {
     "data": {
      "text/plain": [
       "<matplotlib.axes._subplots.AxesSubplot at 0x1e0d57e7cf8>"
      ]
     },
     "execution_count": 38,
     "metadata": {},
     "output_type": "execute_result"
    },
    {
     "data": {
      "image/png": "[encoded data removed]",
      "text/plain": [
       "<Figure size 432x288 with 1 Axes>"
      ]
     },
     "metadata": {},
     "output_type": "display_data"
    }
   ],
   "source": [
    "sns.distplot(completo[completo.spread_coop > -200].spread_coop)"
   ]
  },
  {
   "cell_type": "code",
   "execution_count": 30,
   "metadata": {
    "scrolled": true
   },
   "outputs": [
    {
     "data": {
      "text/plain": [
       "<matplotlib.axes._subplots.AxesSubplot at 0x1e0d50ff588>"
      ]
     },
     "execution_count": 30,
     "metadata": {},
     "output_type": "execute_result"
    },
    {
     "data": {
      "image/png": "[encoded data removed]",
      "text/plain": [
       "<Figure size 432x288 with 1 Axes>"
      ]
     },
     "metadata": {
      "needs_background": "light"
     },
     "output_type": "display_data"
    }
   ],
   "source": [
    "sns.boxplot(completo[completo.spread_coop > -200].spread_coop)"
   ]
  },
  {
   "cell_type": "code",
   "execution_count": 31,
   "metadata": {},
   "outputs": [
    {
     "data": {
      "text/plain": [
       "<matplotlib.axes._subplots.AxesSubplot at 0x1e0d51559b0>"
      ]
     },
     "execution_count": 31,
     "metadata": {},
     "output_type": "execute_result"
    },
    {
     "data": {
      "image/png": "[encoded data removed]",
      "text/plain": [
       "<Figure size 432x288 with 1 Axes>"
      ]
     },
     "metadata": {
      "needs_background": "light"
     },
     "output_type": "display_data"
    }
   ],
   "source": [
    "sns.distplot(completo[completo.spread_coop > -0.1].spread_coop)"
   ]
  },
  {
   "cell_type": "code",
   "execution_count": 32,
   "metadata": {
    "scrolled": true
   },
   "outputs": [
    {
     "data": {
      "text/plain": [
       "<matplotlib.axes._subplots.AxesSubplot at 0x1e0d50ba240>"
      ]
     },
     "execution_count": 32,
     "metadata": {},
     "output_type": "execute_result"
    },
    {
     "data": {
      "image/png": "[encoded data removed]",
      "text/plain": [
       "<Figure size 432x288 with 1 Axes>"
      ]
     },
     "metadata": {
      "needs_background": "light"
     },
     "output_type": "display_data"
    }
   ],
   "source": [
    "sns.boxplot(completo[completo.spread_coop > -0.1].spread_coop)"
   ]
  },
  {
   "cell_type": "code",
   "execution_count": null,
   "metadata": {},
   "outputs": [],
   "source": []
  },
  {
   "cell_type": "code",
   "execution_count": 39,
   "metadata": {},
   "outputs": [
    {
     "data": {
      "text/plain": [
       "<matplotlib.axes._subplots.AxesSubplot at 0x1e0d58876a0>"
      ]
     },
     "execution_count": 39,
     "metadata": {},
     "output_type": "execute_result"
    },
    {
     "data": {
      "image/png": "[encoded data removed]",
      "text/plain": [
       "<Figure size 720x432 with 1 Axes>"
      ]
     },
     "metadata": {},
     "output_type": "display_data"
    }
   ],
   "source": [
    "fig = plt.gcf()\n",
    "fig.set_size_inches(10, 6)\n",
    "sns.set_style(\"whitegrid\")\n",
    "sns.boxplot(completo[(completo.spread_coop > -0.2) & (completo.spread_coop < 0.15)].spread_coop)"
   ]
  },
  {
   "cell_type": "code",
   "execution_count": null,
   "metadata": {},
   "outputs": [],
   "source": []
  },
  {
   "cell_type": "code",
   "execution_count": 40,
   "metadata": {},
   "outputs": [
    {
     "data": {
      "text/plain": [
       "<matplotlib.axes._subplots.AxesSubplot at 0x1e0d6a59c18>"
      ]
     },
     "execution_count": 40,
     "metadata": {},
     "output_type": "execute_result"
    },
    {
     "data": {
      "image/png": "[encoded data removed]",
      "text/plain": [
       "<Figure size 720x432 with 1 Axes>"
      ]
     },
     "metadata": {},
     "output_type": "display_data"
    }
   ],
   "source": [
    "fig = plt.gcf()\n",
    "fig.set_size_inches(10, 6)\n",
    "sns.set_style(\"whitegrid\")\n",
    "sns.distplot(completo[(completo.spread_coop > -0.05) & (completo.spread_coop < 0.15)].spread_coop)"
   ]
  },
  {
   "cell_type": "code",
   "execution_count": 42,
   "metadata": {},
   "outputs": [
    {
     "data": {
      "text/plain": [
       "<matplotlib.axes._subplots.AxesSubplot at 0x1e0d69de6a0>"
      ]
     },
     "execution_count": 42,
     "metadata": {},
     "output_type": "execute_result"
    },
    {
     "data": {
      "image/png": "[encoded data removed]",
      "text/plain": [
       "<Figure size 720x432 with 1 Axes>"
      ]
     },
     "metadata": {},
     "output_type": "display_data"
    }
   ],
   "source": [
    "fig = plt.gcf()\n",
    "fig.set_size_inches(10, 6)\n",
    "sns.set_style(\"whitegrid\")\n",
    "sns.boxplot(completo[(completo.spread_coop > -0.05) & (completo.spread_coop < 0.15)].spread_coop)"
   ]
  },
  {
   "cell_type": "code",
   "execution_count": 52,
   "metadata": {},
   "outputs": [
    {
     "data": {
      "text/plain": [
       "<matplotlib.axes._subplots.AxesSubplot at 0x1e0d6ef2898>"
      ]
     },
     "execution_count": 52,
     "metadata": {},
     "output_type": "execute_result"
    },
    {
     "data": {
      "image/png": "[encoded data removed]",
      "text/plain": [
       "<Figure size 1152x432 with 1 Axes>"
      ]
     },
     "metadata": {},
     "output_type": "display_data"
    }
   ],
   "source": [
    "fig = plt.gcf()\n",
    "fig.set_size_inches(16, 6)\n",
    "sns.set_style(\"whitegrid\")\n",
    "filtrado = completo[(completo.spread_coop > -0.02) & (completo.spread_coop < 0.12)]\n",
    "sns.boxplot(filtrado.index, filtrado.spread_coop)"
   ]
  },
  {
   "cell_type": "code",
   "execution_count": 53,
   "metadata": {},
   "outputs": [
    {
     "name": "stdout",
     "output_type": "stream",
     "text": [
      "<class 'pandas.core.frame.DataFrame'>\n",
      "Int64Index: 1681 entries, 2001 to 2018\n",
      "Data columns (total 14 columns):\n",
      "id                 1681 non-null object\n",
      "spread_banc        1681 non-null float64\n",
      "termo_coop         1681 non-null float64\n",
      "spread_coop        1681 non-null float64\n",
      "taxApl             1681 non-null float64\n",
      "taxCapt            1681 non-null float64\n",
      "IF.DATA_DCap       1681 non-null float64\n",
      "IF.DATA_JCP        1681 non-null float64\n",
      "IF.DATA_PartLuc    1681 non-null float64\n",
      "IF.DATA_RdOC       1681 non-null float64\n",
      "IF.DATA_OpC        1681 non-null float64\n",
      "OpC_off_1          1681 non-null float64\n",
      "IF.DATA_Capt       1681 non-null float64\n",
      "Capt_off_1         1681 non-null float64\n",
      "dtypes: float64(13), object(1)\n",
      "memory usage: 237.0+ KB\n"
     ]
    }
   ],
   "source": [
    "filtrado.info()"
   ]
  },
  {
   "cell_type": "code",
   "execution_count": 59,
   "metadata": {},
   "outputs": [
    {
     "data": {
      "text/html": [
       "<div>\n",
       "<style scoped>\n",
       "    .dataframe tbody tr th:only-of-type {\n",
       "        vertical-align: middle;\n",
       "    }\n",
       "\n",
       "    .dataframe tbody tr th {\n",
       "        vertical-align: top;\n",
       "    }\n",
       "\n",
       "    .dataframe thead th {\n",
       "        text-align: right;\n",
       "    }\n",
       "</style>\n",
       "<table border=\"1\" class=\"dataframe\">\n",
       "  <thead>\n",
       "    <tr style=\"text-align: right;\">\n",
       "      <th>variavel</th>\n",
       "      <th>id</th>\n",
       "      <th>spread_banc</th>\n",
       "      <th>termo_coop</th>\n",
       "      <th>spread_coop</th>\n",
       "      <th>taxApl</th>\n",
       "      <th>taxCapt</th>\n",
       "      <th>IF.DATA_DCap</th>\n",
       "      <th>IF.DATA_JCP</th>\n",
       "      <th>IF.DATA_PartLuc</th>\n",
       "      <th>IF.DATA_RdOC</th>\n",
       "      <th>IF.DATA_OpC</th>\n",
       "      <th>OpC_off_1</th>\n",
       "      <th>IF.DATA_Capt</th>\n",
       "      <th>Capt_off_1</th>\n",
       "    </tr>\n",
       "  </thead>\n",
       "  <tbody>\n",
       "    <tr>\n",
       "      <th>2001</th>\n",
       "      <td>75847</td>\n",
       "      <td>0.069871</td>\n",
       "      <td>0.000000</td>\n",
       "      <td>0.069871</td>\n",
       "      <td>0.109577</td>\n",
       "      <td>-0.039706</td>\n",
       "      <td>-3.426030e+06</td>\n",
       "      <td>0.00</td>\n",
       "      <td>0.0</td>\n",
       "      <td>3.798966e+06</td>\n",
       "      <td>3.829873e+07</td>\n",
       "      <td>3.103992e+07</td>\n",
       "      <td>1.008993e+08</td>\n",
       "      <td>7.166852e+07</td>\n",
       "    </tr>\n",
       "    <tr>\n",
       "      <th>2002</th>\n",
       "      <td>75847</td>\n",
       "      <td>0.079830</td>\n",
       "      <td>0.000000</td>\n",
       "      <td>0.079830</td>\n",
       "      <td>0.119018</td>\n",
       "      <td>-0.039189</td>\n",
       "      <td>-4.449394e+06</td>\n",
       "      <td>0.00</td>\n",
       "      <td>0.0</td>\n",
       "      <td>5.934521e+06</td>\n",
       "      <td>6.142577e+07</td>\n",
       "      <td>3.829873e+07</td>\n",
       "      <td>1.261760e+08</td>\n",
       "      <td>1.008993e+08</td>\n",
       "    </tr>\n",
       "    <tr>\n",
       "      <th>2003</th>\n",
       "      <td>75847</td>\n",
       "      <td>0.061293</td>\n",
       "      <td>0.000000</td>\n",
       "      <td>0.061293</td>\n",
       "      <td>0.117300</td>\n",
       "      <td>-0.056006</td>\n",
       "      <td>-7.819413e+06</td>\n",
       "      <td>0.00</td>\n",
       "      <td>0.0</td>\n",
       "      <td>7.643681e+06</td>\n",
       "      <td>6.890148e+07</td>\n",
       "      <td>6.142577e+07</td>\n",
       "      <td>1.530570e+08</td>\n",
       "      <td>1.261760e+08</td>\n",
       "    </tr>\n",
       "    <tr>\n",
       "      <th>2004</th>\n",
       "      <td>75847</td>\n",
       "      <td>0.052414</td>\n",
       "      <td>0.000000</td>\n",
       "      <td>0.052414</td>\n",
       "      <td>0.087608</td>\n",
       "      <td>-0.035194</td>\n",
       "      <td>-5.576807e+06</td>\n",
       "      <td>0.00</td>\n",
       "      <td>0.0</td>\n",
       "      <td>6.527201e+06</td>\n",
       "      <td>8.010740e+07</td>\n",
       "      <td>6.890148e+07</td>\n",
       "      <td>1.638574e+08</td>\n",
       "      <td>1.530570e+08</td>\n",
       "    </tr>\n",
       "    <tr>\n",
       "      <th>2005</th>\n",
       "      <td>75847</td>\n",
       "      <td>0.053521</td>\n",
       "      <td>0.000000</td>\n",
       "      <td>0.053521</td>\n",
       "      <td>0.096436</td>\n",
       "      <td>-0.042915</td>\n",
       "      <td>-7.998333e+06</td>\n",
       "      <td>0.00</td>\n",
       "      <td>0.0</td>\n",
       "      <td>9.056384e+06</td>\n",
       "      <td>1.077142e+08</td>\n",
       "      <td>8.010740e+07</td>\n",
       "      <td>2.088969e+08</td>\n",
       "      <td>1.638574e+08</td>\n",
       "    </tr>\n",
       "    <tr>\n",
       "      <th>2006</th>\n",
       "      <td>75847</td>\n",
       "      <td>0.059579</td>\n",
       "      <td>0.000000</td>\n",
       "      <td>0.059579</td>\n",
       "      <td>0.095584</td>\n",
       "      <td>-0.036005</td>\n",
       "      <td>-8.322780e+06</td>\n",
       "      <td>0.00</td>\n",
       "      <td>0.0</td>\n",
       "      <td>1.293196e+07</td>\n",
       "      <td>1.628732e+08</td>\n",
       "      <td>1.077142e+08</td>\n",
       "      <td>2.534147e+08</td>\n",
       "      <td>2.088969e+08</td>\n",
       "    </tr>\n",
       "    <tr>\n",
       "      <th>2007</th>\n",
       "      <td>75847</td>\n",
       "      <td>0.048201</td>\n",
       "      <td>0.000000</td>\n",
       "      <td>0.048201</td>\n",
       "      <td>0.076203</td>\n",
       "      <td>-0.028002</td>\n",
       "      <td>-7.739358e+06</td>\n",
       "      <td>0.00</td>\n",
       "      <td>0.0</td>\n",
       "      <td>1.557158e+07</td>\n",
       "      <td>2.458143e+08</td>\n",
       "      <td>1.628732e+08</td>\n",
       "      <td>2.993509e+08</td>\n",
       "      <td>2.534147e+08</td>\n",
       "    </tr>\n",
       "    <tr>\n",
       "      <th>2008</th>\n",
       "      <td>75847</td>\n",
       "      <td>0.050248</td>\n",
       "      <td>0.000000</td>\n",
       "      <td>0.050248</td>\n",
       "      <td>0.085238</td>\n",
       "      <td>-0.034991</td>\n",
       "      <td>-1.526630e+07</td>\n",
       "      <td>0.00</td>\n",
       "      <td>0.0</td>\n",
       "      <td>3.239877e+07</td>\n",
       "      <td>5.143773e+08</td>\n",
       "      <td>2.458143e+08</td>\n",
       "      <td>5.732451e+08</td>\n",
       "      <td>2.993509e+08</td>\n",
       "    </tr>\n",
       "    <tr>\n",
       "      <th>2009</th>\n",
       "      <td>75847</td>\n",
       "      <td>0.032262</td>\n",
       "      <td>0.000000</td>\n",
       "      <td>0.032262</td>\n",
       "      <td>0.051590</td>\n",
       "      <td>-0.019328</td>\n",
       "      <td>-8.321428e+06</td>\n",
       "      <td>0.00</td>\n",
       "      <td>0.0</td>\n",
       "      <td>2.046403e+07</td>\n",
       "      <td>2.789630e+08</td>\n",
       "      <td>5.143773e+08</td>\n",
       "      <td>2.878481e+08</td>\n",
       "      <td>5.732451e+08</td>\n",
       "    </tr>\n",
       "    <tr>\n",
       "      <th>2010</th>\n",
       "      <td>75847</td>\n",
       "      <td>0.048810</td>\n",
       "      <td>0.000000</td>\n",
       "      <td>0.048810</td>\n",
       "      <td>0.081084</td>\n",
       "      <td>-0.032275</td>\n",
       "      <td>-1.099237e+07</td>\n",
       "      <td>0.00</td>\n",
       "      <td>0.0</td>\n",
       "      <td>2.594159e+07</td>\n",
       "      <td>3.609027e+08</td>\n",
       "      <td>2.789630e+08</td>\n",
       "      <td>3.933232e+08</td>\n",
       "      <td>2.878481e+08</td>\n",
       "    </tr>\n",
       "    <tr>\n",
       "      <th>2011</th>\n",
       "      <td>75847</td>\n",
       "      <td>0.046991</td>\n",
       "      <td>0.000000</td>\n",
       "      <td>0.046991</td>\n",
       "      <td>0.086271</td>\n",
       "      <td>-0.039280</td>\n",
       "      <td>-1.843949e+07</td>\n",
       "      <td>0.00</td>\n",
       "      <td>0.0</td>\n",
       "      <td>3.436373e+07</td>\n",
       "      <td>4.357418e+08</td>\n",
       "      <td>3.609027e+08</td>\n",
       "      <td>5.455463e+08</td>\n",
       "      <td>3.933232e+08</td>\n",
       "    </tr>\n",
       "    <tr>\n",
       "      <th>2012</th>\n",
       "      <td>75847</td>\n",
       "      <td>0.050519</td>\n",
       "      <td>-0.024397</td>\n",
       "      <td>0.026123</td>\n",
       "      <td>0.082702</td>\n",
       "      <td>-0.032182</td>\n",
       "      <td>-4.120231e+07</td>\n",
       "      <td>-6281990.91</td>\n",
       "      <td>0.0</td>\n",
       "      <td>8.458576e+07</td>\n",
       "      <td>1.609818e+09</td>\n",
       "      <td>4.357418e+08</td>\n",
       "      <td>2.014997e+09</td>\n",
       "      <td>5.455463e+08</td>\n",
       "    </tr>\n",
       "    <tr>\n",
       "      <th>2013</th>\n",
       "      <td>75847</td>\n",
       "      <td>0.036320</td>\n",
       "      <td>-0.024354</td>\n",
       "      <td>0.011966</td>\n",
       "      <td>0.056260</td>\n",
       "      <td>-0.019940</td>\n",
       "      <td>-4.391857e+07</td>\n",
       "      <td>-8948025.99</td>\n",
       "      <td>0.0</td>\n",
       "      <td>1.032427e+08</td>\n",
       "      <td>2.060375e+09</td>\n",
       "      <td>1.609818e+09</td>\n",
       "      <td>2.390040e+09</td>\n",
       "      <td>2.014997e+09</td>\n",
       "    </tr>\n",
       "    <tr>\n",
       "      <th>2014</th>\n",
       "      <td>75847</td>\n",
       "      <td>0.036566</td>\n",
       "      <td>-0.049403</td>\n",
       "      <td>-0.012837</td>\n",
       "      <td>0.063428</td>\n",
       "      <td>-0.026861</td>\n",
       "      <td>-7.031849e+07</td>\n",
       "      <td>-15437282.44</td>\n",
       "      <td>0.0</td>\n",
       "      <td>1.462232e+08</td>\n",
       "      <td>2.550328e+09</td>\n",
       "      <td>2.060375e+09</td>\n",
       "      <td>2.845614e+09</td>\n",
       "      <td>2.390040e+09</td>\n",
       "    </tr>\n",
       "    <tr>\n",
       "      <th>2015</th>\n",
       "      <td>75847</td>\n",
       "      <td>0.033562</td>\n",
       "      <td>-0.047805</td>\n",
       "      <td>-0.014243</td>\n",
       "      <td>0.067453</td>\n",
       "      <td>-0.033891</td>\n",
       "      <td>-1.097472e+08</td>\n",
       "      <td>-23832616.89</td>\n",
       "      <td>0.0</td>\n",
       "      <td>1.847992e+08</td>\n",
       "      <td>2.929006e+09</td>\n",
       "      <td>2.550328e+09</td>\n",
       "      <td>3.630793e+09</td>\n",
       "      <td>2.845614e+09</td>\n",
       "    </tr>\n",
       "    <tr>\n",
       "      <th>2016</th>\n",
       "      <td>75847</td>\n",
       "      <td>0.032937</td>\n",
       "      <td>-0.024815</td>\n",
       "      <td>0.008122</td>\n",
       "      <td>0.068827</td>\n",
       "      <td>-0.035890</td>\n",
       "      <td>-1.473770e+08</td>\n",
       "      <td>-23936416.59</td>\n",
       "      <td>0.0</td>\n",
       "      <td>2.162360e+08</td>\n",
       "      <td>3.354481e+09</td>\n",
       "      <td>2.929006e+09</td>\n",
       "      <td>4.581894e+09</td>\n",
       "      <td>3.630793e+09</td>\n",
       "    </tr>\n",
       "    <tr>\n",
       "      <th>2017</th>\n",
       "      <td>75847</td>\n",
       "      <td>0.034463</td>\n",
       "      <td>-0.013843</td>\n",
       "      <td>0.020620</td>\n",
       "      <td>0.062143</td>\n",
       "      <td>-0.027681</td>\n",
       "      <td>-1.454508e+08</td>\n",
       "      <td>-22700448.58</td>\n",
       "      <td>0.0</td>\n",
       "      <td>2.246326e+08</td>\n",
       "      <td>3.875000e+09</td>\n",
       "      <td>3.354481e+09</td>\n",
       "      <td>5.927306e+09</td>\n",
       "      <td>4.581894e+09</td>\n",
       "    </tr>\n",
       "    <tr>\n",
       "      <th>2018</th>\n",
       "      <td>75847</td>\n",
       "      <td>0.033844</td>\n",
       "      <td>-0.006613</td>\n",
       "      <td>0.027231</td>\n",
       "      <td>0.051385</td>\n",
       "      <td>-0.017541</td>\n",
       "      <td>-1.146862e+08</td>\n",
       "      <td>-15830430.78</td>\n",
       "      <td>0.0</td>\n",
       "      <td>2.129701e+08</td>\n",
       "      <td>4.414244e+09</td>\n",
       "      <td>3.875000e+09</td>\n",
       "      <td>7.149274e+09</td>\n",
       "      <td>5.927306e+09</td>\n",
       "    </tr>\n",
       "    <tr>\n",
       "      <th>2019</th>\n",
       "      <td>75847</td>\n",
       "      <td>0.022781</td>\n",
       "      <td>-0.003923</td>\n",
       "      <td>0.018858</td>\n",
       "      <td>0.034452</td>\n",
       "      <td>-0.011671</td>\n",
       "      <td>-7.418677e+07</td>\n",
       "      <td>-9993618.83</td>\n",
       "      <td>0.0</td>\n",
       "      <td>1.312186e+08</td>\n",
       "      <td>3.203197e+09</td>\n",
       "      <td>4.414244e+09</td>\n",
       "      <td>5.563494e+09</td>\n",
       "      <td>7.149274e+09</td>\n",
       "    </tr>\n",
       "    <tr>\n",
       "      <th>2001</th>\n",
       "      <td>815319</td>\n",
       "      <td>0.073077</td>\n",
       "      <td>0.000000</td>\n",
       "      <td>0.073077</td>\n",
       "      <td>0.112580</td>\n",
       "      <td>-0.039503</td>\n",
       "      <td>-9.090835e+06</td>\n",
       "      <td>0.00</td>\n",
       "      <td>0.0</td>\n",
       "      <td>1.933191e+07</td>\n",
       "      <td>2.009530e+08</td>\n",
       "      <td>1.424820e+08</td>\n",
       "      <td>2.571668e+08</td>\n",
       "      <td>2.030921e+08</td>\n",
       "    </tr>\n",
       "  </tbody>\n",
       "</table>\n",
       "</div>"
      ],
      "text/plain": [
       "variavel      id  spread_banc  termo_coop  spread_coop    taxApl   taxCapt  \\\n",
       "2001       75847     0.069871    0.000000     0.069871  0.109577 -0.039706   \n",
       "2002       75847     0.079830    0.000000     0.079830  0.119018 -0.039189   \n",
       "2003       75847     0.061293    0.000000     0.061293  0.117300 -0.056006   \n",
       "2004       75847     0.052414    0.000000     0.052414  0.087608 -0.035194   \n",
       "2005       75847     0.053521    0.000000     0.053521  0.096436 -0.042915   \n",
       "2006       75847     0.059579    0.000000     0.059579  0.095584 -0.036005   \n",
       "2007       75847     0.048201    0.000000     0.048201  0.076203 -0.028002   \n",
       "2008       75847     0.050248    0.000000     0.050248  0.085238 -0.034991   \n",
       "2009       75847     0.032262    0.000000     0.032262  0.051590 -0.019328   \n",
       "2010       75847     0.048810    0.000000     0.048810  0.081084 -0.032275   \n",
       "2011       75847     0.046991    0.000000     0.046991  0.086271 -0.039280   \n",
       "2012       75847     0.050519   -0.024397     0.026123  0.082702 -0.032182   \n",
       "2013       75847     0.036320   -0.024354     0.011966  0.056260 -0.019940   \n",
       "2014       75847     0.036566   -0.049403    -0.012837  0.063428 -0.026861   \n",
       "2015       75847     0.033562   -0.047805    -0.014243  0.067453 -0.033891   \n",
       "2016       75847     0.032937   -0.024815     0.008122  0.068827 -0.035890   \n",
       "2017       75847     0.034463   -0.013843     0.020620  0.062143 -0.027681   \n",
       "2018       75847     0.033844   -0.006613     0.027231  0.051385 -0.017541   \n",
       "2019       75847     0.022781   -0.003923     0.018858  0.034452 -0.011671   \n",
       "2001      815319     0.073077    0.000000     0.073077  0.112580 -0.039503   \n",
       "\n",
       "variavel  IF.DATA_DCap  IF.DATA_JCP  IF.DATA_PartLuc  IF.DATA_RdOC  \\\n",
       "2001     -3.426030e+06         0.00              0.0  3.798966e+06   \n",
       "2002     -4.449394e+06         0.00              0.0  5.934521e+06   \n",
       "2003     -7.819413e+06         0.00              0.0  7.643681e+06   \n",
       "2004     -5.576807e+06         0.00              0.0  6.527201e+06   \n",
       "2005     -7.998333e+06         0.00              0.0  9.056384e+06   \n",
       "2006     -8.322780e+06         0.00              0.0  1.293196e+07   \n",
       "2007     -7.739358e+06         0.00              0.0  1.557158e+07   \n",
       "2008     -1.526630e+07         0.00              0.0  3.239877e+07   \n",
       "2009     -8.321428e+06         0.00              0.0  2.046403e+07   \n",
       "2010     -1.099237e+07         0.00              0.0  2.594159e+07   \n",
       "2011     -1.843949e+07         0.00              0.0  3.436373e+07   \n",
       "2012     -4.120231e+07  -6281990.91              0.0  8.458576e+07   \n",
       "2013     -4.391857e+07  -8948025.99              0.0  1.032427e+08   \n",
       "2014     -7.031849e+07 -15437282.44              0.0  1.462232e+08   \n",
       "2015     -1.097472e+08 -23832616.89              0.0  1.847992e+08   \n",
       "2016     -1.473770e+08 -23936416.59              0.0  2.162360e+08   \n",
       "2017     -1.454508e+08 -22700448.58              0.0  2.246326e+08   \n",
       "2018     -1.146862e+08 -15830430.78              0.0  2.129701e+08   \n",
       "2019     -7.418677e+07  -9993618.83              0.0  1.312186e+08   \n",
       "2001     -9.090835e+06         0.00              0.0  1.933191e+07   \n",
       "\n",
       "variavel   IF.DATA_OpC     OpC_off_1  IF.DATA_Capt    Capt_off_1  \n",
       "2001      3.829873e+07  3.103992e+07  1.008993e+08  7.166852e+07  \n",
       "2002      6.142577e+07  3.829873e+07  1.261760e+08  1.008993e+08  \n",
       "2003      6.890148e+07  6.142577e+07  1.530570e+08  1.261760e+08  \n",
       "2004      8.010740e+07  6.890148e+07  1.638574e+08  1.530570e+08  \n",
       "2005      1.077142e+08  8.010740e+07  2.088969e+08  1.638574e+08  \n",
       "2006      1.628732e+08  1.077142e+08  2.534147e+08  2.088969e+08  \n",
       "2007      2.458143e+08  1.628732e+08  2.993509e+08  2.534147e+08  \n",
       "2008      5.143773e+08  2.458143e+08  5.732451e+08  2.993509e+08  \n",
       "2009      2.789630e+08  5.143773e+08  2.878481e+08  5.732451e+08  \n",
       "2010      3.609027e+08  2.789630e+08  3.933232e+08  2.878481e+08  \n",
       "2011      4.357418e+08  3.609027e+08  5.455463e+08  3.933232e+08  \n",
       "2012      1.609818e+09  4.357418e+08  2.014997e+09  5.455463e+08  \n",
       "2013      2.060375e+09  1.609818e+09  2.390040e+09  2.014997e+09  \n",
       "2014      2.550328e+09  2.060375e+09  2.845614e+09  2.390040e+09  \n",
       "2015      2.929006e+09  2.550328e+09  3.630793e+09  2.845614e+09  \n",
       "2016      3.354481e+09  2.929006e+09  4.581894e+09  3.630793e+09  \n",
       "2017      3.875000e+09  3.354481e+09  5.927306e+09  4.581894e+09  \n",
       "2018      4.414244e+09  3.875000e+09  7.149274e+09  5.927306e+09  \n",
       "2019      3.203197e+09  4.414244e+09  5.563494e+09  7.149274e+09  \n",
       "2001      2.009530e+08  1.424820e+08  2.571668e+08  2.030921e+08  "
      ]
     },
     "execution_count": 59,
     "metadata": {},
     "output_type": "execute_result"
    }
   ],
   "source": [
    "filtrado.head(20)"
   ]
  },
  {
   "cell_type": "code",
   "execution_count": 57,
   "metadata": {
    "scrolled": true
   },
   "outputs": [],
   "source": [
    "fil_mean = filtrado.groupby(filtrado.index).mean()\n"
   ]
  },
  {
   "cell_type": "code",
   "execution_count": 58,
   "metadata": {},
   "outputs": [
    {
     "data": {
      "text/plain": [
       "<matplotlib.axes._subplots.AxesSubplot at 0x1e0d9c073c8>"
      ]
     },
     "execution_count": 58,
     "metadata": {},
     "output_type": "execute_result"
    },
    {
     "data": {
      "image/png": "[encoded data removed]",
      "text/plain": [
       "<Figure size 1152x432 with 1 Axes>"
      ]
     },
     "metadata": {},
     "output_type": "display_data"
    }
   ],
   "source": [
    "fig = plt.gcf()\n",
    "fig.set_size_inches(16, 6)\n",
    "sns.set_style(\"whitegrid\")\n",
    "sns.lineplot(fil_mean.index.map(str), fil_mean.spread_banc)"
   ]
  },
  {
   "cell_type": "code",
   "execution_count": null,
   "metadata": {},
   "outputs": [],
   "source": []
  }
 ],
 "metadata": {
  "kernelspec": {
   "display_name": "Python 3",
   "language": "python",
   "name": "python3"
  },
  "language_info": {
   "codemirror_mode": {
    "name": "ipython",
    "version": 3
   },
   "file_extension": ".py",
   "mimetype": "text/x-python",
   "name": "python",
   "nbconvert_exporter": "python",
   "pygments_lexer": "ipython3",
   "version": "3.7.3"
  }
 },
 "nbformat": 4,
 "nbformat_minor": 2
}
